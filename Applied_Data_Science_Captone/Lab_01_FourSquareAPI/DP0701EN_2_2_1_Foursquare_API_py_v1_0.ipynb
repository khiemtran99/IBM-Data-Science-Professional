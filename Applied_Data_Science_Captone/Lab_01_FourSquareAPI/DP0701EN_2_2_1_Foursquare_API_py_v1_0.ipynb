{
  "nbformat": 4,
  "nbformat_minor": 0,
  "metadata": {
    "kernelspec": {
      "display_name": "Python 3",
      "language": "python",
      "name": "python3"
    },
    "language_info": {
      "codemirror_mode": {
        "name": "ipython",
        "version": 3
      },
      "file_extension": ".py",
      "mimetype": "text/x-python",
      "name": "python",
      "nbconvert_exporter": "python",
      "pygments_lexer": "ipython3",
      "version": "3.6.5"
    },
    "colab": {
      "name": "DP0701EN-2-2-1-Foursquare-API-py-v1.0.ipynb",
      "provenance": [],
      "collapsed_sections": []
    }
  },
  "cells": [
    {
      "cell_type": "markdown",
      "metadata": {
        "button": false,
        "deletable": true,
        "new_sheet": false,
        "run_control": {
          "read_only": false
        },
        "id": "-uDEE8Ro4inC",
        "colab_type": "text"
      },
      "source": [
        "<a href=\"https://cognitiveclass.ai\"><img src = \"https://ibm.box.com/shared/static/9gegpsmnsoo25ikkbl4qzlvlyjbgxs5x.png\" width = 400> </a>\n",
        "\n",
        "<h1 align=center><font size = 5>Learning FourSquare API with Python</font></h1>"
      ]
    },
    {
      "cell_type": "markdown",
      "metadata": {
        "button": false,
        "deletable": true,
        "new_sheet": false,
        "run_control": {
          "read_only": false
        },
        "id": "JFCgzPVF4inD",
        "colab_type": "text"
      },
      "source": [
        "   "
      ]
    },
    {
      "cell_type": "markdown",
      "metadata": {
        "button": false,
        "deletable": true,
        "new_sheet": false,
        "run_control": {
          "read_only": false
        },
        "id": "t5OhksEZ4inE",
        "colab_type": "text"
      },
      "source": [
        "## Introduction\n",
        "\n",
        "In this lab, you will learn in details how to make calls to the Foursquare API for different purposes. You will learn how to construct a URL to send a request to the API to search for a specific type of venues, to explore a particular venue, to explore a Foursquare user, to explore a geographical location, and to get trending venues around a location. Also, you will learn how to use the visualization library, Folium, to visualize the results."
      ]
    },
    {
      "cell_type": "markdown",
      "metadata": {
        "button": false,
        "deletable": true,
        "new_sheet": false,
        "run_control": {
          "read_only": false
        },
        "id": "9HRB303f4inE",
        "colab_type": "text"
      },
      "source": [
        "## Table of Contents\n",
        "\n",
        "1. <a href=\"#item1\">Foursquare API Search Function</a>\n",
        "2. <a href=\"#item2\">Explore a Given Venue</a>  \n",
        "3. <a href=\"#item3\">Explore a User</a>  \n",
        "4. <a href=\"#item4\">Foursquare API Explore Function</a>  \n",
        "5. <a href=\"#item5\">Get Trending Venues</a>  "
      ]
    },
    {
      "cell_type": "markdown",
      "metadata": {
        "button": false,
        "deletable": true,
        "new_sheet": false,
        "run_control": {
          "read_only": false
        },
        "id": "Tyt-X4na4inF",
        "colab_type": "text"
      },
      "source": [
        "### Import necessary Libraries"
      ]
    },
    {
      "cell_type": "code",
      "metadata": {
        "button": false,
        "deletable": true,
        "new_sheet": false,
        "run_control": {
          "read_only": false
        },
        "id": "P1n88Vfe4inG",
        "colab_type": "code",
        "colab": {
          "base_uri": "https://localhost:8080/",
          "height": 86
        },
        "outputId": "521734bc-47f5-4c91-8aae-fa3aae6d4e53"
      },
      "source": [
        "import requests # library to handle requests\n",
        "import pandas as pd # library for data analsysis\n",
        "import numpy as np # library to handle data in a vectorized manner\n",
        "import random # library for random number generation\n",
        "\n",
        "!conda install -c conda-forge geopy --yes \n",
        "from geopy.geocoders import Nominatim # module to convert an address into latitude and longitude values\n",
        "\n",
        "# libraries for displaying images\n",
        "from IPython.display import Image \n",
        "from IPython.core.display import HTML \n",
        "    \n",
        "# tranforming json file into a pandas dataframe library\n",
        "from pandas.io.json import json_normalize\n",
        "\n",
        "!conda install -c conda-forge folium=0.5.0 --yes\n",
        "import folium # plotting library\n",
        "\n",
        "print('Folium installed')\n",
        "print('Libraries imported.')"
      ],
      "execution_count": 1,
      "outputs": [
        {
          "output_type": "stream",
          "text": [
            "/bin/bash: conda: command not found\n",
            "/bin/bash: conda: command not found\n",
            "Folium installed\n",
            "Libraries imported.\n"
          ],
          "name": "stdout"
        }
      ]
    },
    {
      "cell_type": "markdown",
      "metadata": {
        "button": false,
        "deletable": true,
        "new_sheet": false,
        "run_control": {
          "read_only": false
        },
        "id": "N8CxYTob4inJ",
        "colab_type": "text"
      },
      "source": [
        "### Define Foursquare Credentials and Version"
      ]
    },
    {
      "cell_type": "markdown",
      "metadata": {
        "button": false,
        "deletable": true,
        "new_sheet": false,
        "run_control": {
          "read_only": false
        },
        "id": "01KrZyXu4inJ",
        "colab_type": "text"
      },
      "source": [
        "##### Make sure that you have created a Foursquare developer account and have your credentials handy"
      ]
    },
    {
      "cell_type": "code",
      "metadata": {
        "button": false,
        "deletable": true,
        "new_sheet": false,
        "run_control": {
          "read_only": false
        },
        "id": "LcQZzNRt4inJ",
        "colab_type": "code",
        "colab": {
          "base_uri": "https://localhost:8080/",
          "height": 69
        },
        "outputId": "f65e063a-9821-4699-ae26-8d2d465a0891"
      },
      "source": [
        "CLIENT_ID = 'UGZ02U5FOWXHIWQAWWVMJ25DPLLSQ10WXESWA32G53FM1AGS' # your Foursquare ID\n",
        "CLIENT_SECRET = 'VWINXOWSF0U2JHTFYFDQ1XQAGYK1LPWL1K1GM0FFARXFDWUI' # your Foursquare Secret\n",
        "VERSION = '20200707'\n",
        "LIMIT = 30\n",
        "print('Your credentails:')\n",
        "print('CLIENT_ID: ' + CLIENT_ID)\n",
        "print('CLIENT_SECRET:' + CLIENT_SECRET)"
      ],
      "execution_count": 2,
      "outputs": [
        {
          "output_type": "stream",
          "text": [
            "Your credentails:\n",
            "CLIENT_ID: UGZ02U5FOWXHIWQAWWVMJ25DPLLSQ10WXESWA32G53FM1AGS\n",
            "CLIENT_SECRET:VWINXOWSF0U2JHTFYFDQ1XQAGYK1LPWL1K1GM0FFARXFDWUI\n"
          ],
          "name": "stdout"
        }
      ]
    },
    {
      "cell_type": "markdown",
      "metadata": {
        "button": false,
        "deletable": true,
        "new_sheet": false,
        "run_control": {
          "read_only": false
        },
        "id": "nNnU6h7V4inL",
        "colab_type": "text"
      },
      "source": [
        "  "
      ]
    },
    {
      "cell_type": "markdown",
      "metadata": {
        "button": false,
        "deletable": true,
        "new_sheet": false,
        "run_control": {
          "read_only": false
        },
        "id": "Y8R5dRUn4inM",
        "colab_type": "text"
      },
      "source": [
        "#### Let's again assume that you are staying at the Conrad hotel. So let's start by converting the Contrad Hotel's address to its latitude and longitude coordinates."
      ]
    },
    {
      "cell_type": "markdown",
      "metadata": {
        "id": "Eccx8PAE4inM",
        "colab_type": "text"
      },
      "source": [
        "In order to define an instance of the geocoder, we need to define a user_agent. We will name our agent <em>foursquare_agent</em>, as shown below."
      ]
    },
    {
      "cell_type": "code",
      "metadata": {
        "button": false,
        "deletable": true,
        "new_sheet": false,
        "run_control": {
          "read_only": false
        },
        "id": "k65nqn7E4inN",
        "colab_type": "code",
        "colab": {
          "base_uri": "https://localhost:8080/",
          "height": 34
        },
        "outputId": "80632017-a4f5-4a3d-c021-7654439a88cb"
      },
      "source": [
        "address = '102 North End Ave, New York, NY'\n",
        "\n",
        "geolocator = Nominatim(user_agent=\"foursquare_agent\")\n",
        "location = geolocator.geocode(address)\n",
        "latitude = location.latitude\n",
        "longitude = location.longitude\n",
        "print(latitude, longitude)"
      ],
      "execution_count": 3,
      "outputs": [
        {
          "output_type": "stream",
          "text": [
            "40.7151482 -74.0156573\n"
          ],
          "name": "stdout"
        }
      ]
    },
    {
      "cell_type": "markdown",
      "metadata": {
        "button": false,
        "deletable": true,
        "new_sheet": false,
        "run_control": {
          "read_only": false
        },
        "id": "Ih5xOVkE4inP",
        "colab_type": "text"
      },
      "source": [
        "   "
      ]
    },
    {
      "cell_type": "markdown",
      "metadata": {
        "button": false,
        "deletable": true,
        "new_sheet": false,
        "run_control": {
          "read_only": false
        },
        "id": "Alv0CDWi4inP",
        "colab_type": "text"
      },
      "source": [
        "<a id=\"item1\"></a>"
      ]
    },
    {
      "cell_type": "markdown",
      "metadata": {
        "button": false,
        "deletable": true,
        "new_sheet": false,
        "run_control": {
          "read_only": false
        },
        "id": "p__NSuEs4inP",
        "colab_type": "text"
      },
      "source": [
        "## 1. Search for a specific venue category\n",
        "> `https://api.foursquare.com/v2/venues/`**search**`?client_id=`**CLIENT_ID**`&client_secret=`**CLIENT_SECRET**`&ll=`**LATITUDE**`,`**LONGITUDE**`&v=`**VERSION**`&query=`**QUERY**`&radius=`**RADIUS**`&limit=`**LIMIT**"
      ]
    },
    {
      "cell_type": "markdown",
      "metadata": {
        "button": false,
        "deletable": true,
        "new_sheet": false,
        "run_control": {
          "read_only": false
        },
        "id": "nXJhN7Dd4inQ",
        "colab_type": "text"
      },
      "source": [
        "#### Now, let's assume that it is lunch time, and you are craving Italian food. So, let's define a query to search for Italian food that is within 500 metres from the Conrad Hotel. "
      ]
    },
    {
      "cell_type": "code",
      "metadata": {
        "button": false,
        "deletable": true,
        "new_sheet": false,
        "run_control": {
          "read_only": false
        },
        "scrolled": true,
        "id": "IBhJJh_I4inQ",
        "colab_type": "code",
        "colab": {
          "base_uri": "https://localhost:8080/",
          "height": 34
        },
        "outputId": "5b715a85-5e1a-47fb-9388-dc1e0942df8e"
      },
      "source": [
        "search_query = 'Italian'\n",
        "radius = 500\n",
        "print(search_query + ' .... OK!')"
      ],
      "execution_count": 4,
      "outputs": [
        {
          "output_type": "stream",
          "text": [
            "Italian .... OK!\n"
          ],
          "name": "stdout"
        }
      ]
    },
    {
      "cell_type": "markdown",
      "metadata": {
        "button": false,
        "deletable": true,
        "new_sheet": false,
        "run_control": {
          "read_only": false
        },
        "id": "Psi3x6me4inS",
        "colab_type": "text"
      },
      "source": [
        "#### Define the corresponding URL"
      ]
    },
    {
      "cell_type": "code",
      "metadata": {
        "button": false,
        "deletable": true,
        "new_sheet": false,
        "run_control": {
          "read_only": false
        },
        "id": "ITq5jXec4inT",
        "colab_type": "code",
        "colab": {
          "base_uri": "https://localhost:8080/",
          "height": 52
        },
        "outputId": "dcae03cf-9b0e-4cd1-d104-743ddef32ba8"
      },
      "source": [
        "url = 'https://api.foursquare.com/v2/venues/search?client_id={}&client_secret={}&ll={},{}&v={}&query={}&radius={}&limit={}'.format(CLIENT_ID, CLIENT_SECRET, latitude, longitude, VERSION, search_query, radius, LIMIT)\n",
        "url"
      ],
      "execution_count": 5,
      "outputs": [
        {
          "output_type": "execute_result",
          "data": {
            "application/vnd.google.colaboratory.intrinsic": {
              "type": "string"
            },
            "text/plain": [
              "'https://api.foursquare.com/v2/venues/search?client_id=UGZ02U5FOWXHIWQAWWVMJ25DPLLSQ10WXESWA32G53FM1AGS&client_secret=VWINXOWSF0U2JHTFYFDQ1XQAGYK1LPWL1K1GM0FFARXFDWUI&ll=40.7151482,-74.0156573&v=20200707&query=Italian&radius=500&limit=30'"
            ]
          },
          "metadata": {
            "tags": []
          },
          "execution_count": 5
        }
      ]
    },
    {
      "cell_type": "markdown",
      "metadata": {
        "button": false,
        "deletable": true,
        "new_sheet": false,
        "run_control": {
          "read_only": false
        },
        "id": "umJ1o0wQ4inV",
        "colab_type": "text"
      },
      "source": [
        "#### Send the GET Request and examine the results"
      ]
    },
    {
      "cell_type": "code",
      "metadata": {
        "button": false,
        "deletable": true,
        "new_sheet": false,
        "run_control": {
          "read_only": false
        },
        "scrolled": true,
        "id": "N48W8S4u4inV",
        "colab_type": "code",
        "colab": {
          "base_uri": "https://localhost:8080/",
          "height": 950
        },
        "outputId": "8b4ebdb5-48aa-4b0a-e19f-70c0da440126"
      },
      "source": [
        "results = requests.get(url).json()\n",
        "results"
      ],
      "execution_count": 6,
      "outputs": [
        {
          "output_type": "execute_result",
          "data": {
            "text/plain": [
              "{'meta': {'code': 200, 'requestId': '5f0569124c1ae841da768245'},\n",
              " 'response': {'venues': [{'categories': [{'icon': {'prefix': 'https://ss3.4sqi.net/img/categories_v2/food/pizza_',\n",
              "       'suffix': '.png'},\n",
              "      'id': '4bf58dd8d48988d1ca941735',\n",
              "      'name': 'Pizza Place',\n",
              "      'pluralName': 'Pizza Places',\n",
              "      'primary': True,\n",
              "      'shortName': 'Pizza'}],\n",
              "    'hasPerk': False,\n",
              "    'id': '4fa862b3e4b0ebff2f749f06',\n",
              "    'location': {'address': '225 Murray St',\n",
              "     'cc': 'US',\n",
              "     'city': 'New York',\n",
              "     'country': 'United States',\n",
              "     'distance': 77,\n",
              "     'formattedAddress': ['225 Murray St',\n",
              "      'New York, NY 10282',\n",
              "      'United States'],\n",
              "     'labeledLatLngs': [{'label': 'display',\n",
              "       'lat': 40.71521779064671,\n",
              "       'lng': -74.01473940209351},\n",
              "      {'label': 'entrance', 'lat': 40.715361, 'lng': -74.014975}],\n",
              "     'lat': 40.71521779064671,\n",
              "     'lng': -74.01473940209351,\n",
              "     'postalCode': '10282',\n",
              "     'state': 'NY'},\n",
              "    'name': \"Harry's Italian Pizza Bar\",\n",
              "    'referralId': 'v-1594190297'},\n",
              "   {'categories': [{'icon': {'prefix': 'https://ss3.4sqi.net/img/categories_v2/food/default_',\n",
              "       'suffix': '.png'},\n",
              "      'id': '4d4b7105d754a06374d81259',\n",
              "      'name': 'Food',\n",
              "      'pluralName': 'Food',\n",
              "      'primary': True,\n",
              "      'shortName': 'Food'}],\n",
              "    'hasPerk': False,\n",
              "    'id': '4f3232e219836c91c7bfde94',\n",
              "    'location': {'address': '63 W Broadway',\n",
              "     'cc': 'US',\n",
              "     'city': 'New York',\n",
              "     'country': 'United States',\n",
              "     'distance': 499,\n",
              "     'formattedAddress': ['63 W Broadway',\n",
              "      'New York, NY 10007',\n",
              "      'United States'],\n",
              "     'labeledLatLngs': [{'label': 'display',\n",
              "       'lat': 40.714484000000006,\n",
              "       'lng': -74.00980600000001}],\n",
              "     'lat': 40.714484000000006,\n",
              "     'lng': -74.00980600000001,\n",
              "     'postalCode': '10007',\n",
              "     'state': 'NY'},\n",
              "    'name': 'Conca Cucina Italian Restaurant',\n",
              "    'referralId': 'v-1594190297'}]}}"
            ]
          },
          "metadata": {
            "tags": []
          },
          "execution_count": 6
        }
      ]
    },
    {
      "cell_type": "markdown",
      "metadata": {
        "button": false,
        "deletable": true,
        "new_sheet": false,
        "run_control": {
          "read_only": false
        },
        "id": "QGfiyAiT4inX",
        "colab_type": "text"
      },
      "source": [
        "#### Get relevant part of JSON and transform it into a *pandas* dataframe"
      ]
    },
    {
      "cell_type": "code",
      "metadata": {
        "button": false,
        "deletable": true,
        "new_sheet": false,
        "run_control": {
          "read_only": false
        },
        "id": "LJ_YX8bi4inY",
        "colab_type": "code",
        "colab": {
          "base_uri": "https://localhost:8080/",
          "height": 249
        },
        "outputId": "ab4686ae-e90c-46a0-bbae-ede8d784138a"
      },
      "source": [
        "# assign relevant part of JSON to venues\n",
        "venues = results['response']['venues']\n",
        "\n",
        "# tranform venues into a dataframe\n",
        "dataframe = json_normalize(venues)\n",
        "dataframe.head()"
      ],
      "execution_count": 9,
      "outputs": [
        {
          "output_type": "stream",
          "text": [
            "/usr/local/lib/python3.6/dist-packages/ipykernel_launcher.py:5: FutureWarning: pandas.io.json.json_normalize is deprecated, use pandas.json_normalize instead\n",
            "  \"\"\"\n"
          ],
          "name": "stderr"
        },
        {
          "output_type": "execute_result",
          "data": {
            "text/html": [
              "<div>\n",
              "<style scoped>\n",
              "    .dataframe tbody tr th:only-of-type {\n",
              "        vertical-align: middle;\n",
              "    }\n",
              "\n",
              "    .dataframe tbody tr th {\n",
              "        vertical-align: top;\n",
              "    }\n",
              "\n",
              "    .dataframe thead th {\n",
              "        text-align: right;\n",
              "    }\n",
              "</style>\n",
              "<table border=\"1\" class=\"dataframe\">\n",
              "  <thead>\n",
              "    <tr style=\"text-align: right;\">\n",
              "      <th></th>\n",
              "      <th>id</th>\n",
              "      <th>name</th>\n",
              "      <th>categories</th>\n",
              "      <th>referralId</th>\n",
              "      <th>hasPerk</th>\n",
              "      <th>location.address</th>\n",
              "      <th>location.lat</th>\n",
              "      <th>location.lng</th>\n",
              "      <th>location.labeledLatLngs</th>\n",
              "      <th>location.distance</th>\n",
              "      <th>location.postalCode</th>\n",
              "      <th>location.cc</th>\n",
              "      <th>location.city</th>\n",
              "      <th>location.state</th>\n",
              "      <th>location.country</th>\n",
              "      <th>location.formattedAddress</th>\n",
              "    </tr>\n",
              "  </thead>\n",
              "  <tbody>\n",
              "    <tr>\n",
              "      <th>0</th>\n",
              "      <td>4fa862b3e4b0ebff2f749f06</td>\n",
              "      <td>Harry's Italian Pizza Bar</td>\n",
              "      <td>[{'id': '4bf58dd8d48988d1ca941735', 'name': 'P...</td>\n",
              "      <td>v-1594190297</td>\n",
              "      <td>False</td>\n",
              "      <td>225 Murray St</td>\n",
              "      <td>40.715218</td>\n",
              "      <td>-74.014739</td>\n",
              "      <td>[{'label': 'display', 'lat': 40.71521779064671...</td>\n",
              "      <td>77</td>\n",
              "      <td>10282</td>\n",
              "      <td>US</td>\n",
              "      <td>New York</td>\n",
              "      <td>NY</td>\n",
              "      <td>United States</td>\n",
              "      <td>[225 Murray St, New York, NY 10282, United Sta...</td>\n",
              "    </tr>\n",
              "    <tr>\n",
              "      <th>1</th>\n",
              "      <td>4f3232e219836c91c7bfde94</td>\n",
              "      <td>Conca Cucina Italian Restaurant</td>\n",
              "      <td>[{'id': '4d4b7105d754a06374d81259', 'name': 'F...</td>\n",
              "      <td>v-1594190297</td>\n",
              "      <td>False</td>\n",
              "      <td>63 W Broadway</td>\n",
              "      <td>40.714484</td>\n",
              "      <td>-74.009806</td>\n",
              "      <td>[{'label': 'display', 'lat': 40.71448400000000...</td>\n",
              "      <td>499</td>\n",
              "      <td>10007</td>\n",
              "      <td>US</td>\n",
              "      <td>New York</td>\n",
              "      <td>NY</td>\n",
              "      <td>United States</td>\n",
              "      <td>[63 W Broadway, New York, NY 10007, United Sta...</td>\n",
              "    </tr>\n",
              "  </tbody>\n",
              "</table>\n",
              "</div>"
            ],
            "text/plain": [
              "                         id  ...                          location.formattedAddress\n",
              "0  4fa862b3e4b0ebff2f749f06  ...  [225 Murray St, New York, NY 10282, United Sta...\n",
              "1  4f3232e219836c91c7bfde94  ...  [63 W Broadway, New York, NY 10007, United Sta...\n",
              "\n",
              "[2 rows x 16 columns]"
            ]
          },
          "metadata": {
            "tags": []
          },
          "execution_count": 9
        }
      ]
    },
    {
      "cell_type": "markdown",
      "metadata": {
        "button": false,
        "deletable": true,
        "new_sheet": false,
        "run_control": {
          "read_only": false
        },
        "id": "z3tn4FvN4inZ",
        "colab_type": "text"
      },
      "source": [
        "#### Define information of interest and filter dataframe"
      ]
    },
    {
      "cell_type": "code",
      "metadata": {
        "button": false,
        "deletable": true,
        "new_sheet": false,
        "run_control": {
          "read_only": false
        },
        "scrolled": true,
        "id": "KJsWr_SX4ina",
        "colab_type": "code",
        "colab": {
          "base_uri": "https://localhost:8080/",
          "height": 232
        },
        "outputId": "2c74d588-b2af-40c8-8469-220787ba4b5b"
      },
      "source": [
        "# keep only columns that include venue name, and anything that is associated with location\n",
        "filtered_columns = ['name', 'categories'] + [col for col in dataframe.columns if col.startswith('location.')] + ['id']\n",
        "dataframe_filtered = dataframe.loc[:, filtered_columns]\n",
        "\n",
        "# function that extracts the category of the venue\n",
        "def get_category_type(row):\n",
        "    try:\n",
        "        categories_list = row['categories']\n",
        "    except:\n",
        "        categories_list = row['venue.categories']\n",
        "        \n",
        "    if len(categories_list) == 0:\n",
        "        return None\n",
        "    else:\n",
        "        return categories_list[0]['name']\n",
        "\n",
        "# filter the category for each row\n",
        "dataframe_filtered['categories'] = dataframe_filtered.apply(get_category_type, axis=1)\n",
        "\n",
        "# clean column names by keeping only last term\n",
        "dataframe_filtered.columns = [column.split('.')[-1] for column in dataframe_filtered.columns]\n",
        "\n",
        "dataframe_filtered"
      ],
      "execution_count": 10,
      "outputs": [
        {
          "output_type": "execute_result",
          "data": {
            "text/html": [
              "<div>\n",
              "<style scoped>\n",
              "    .dataframe tbody tr th:only-of-type {\n",
              "        vertical-align: middle;\n",
              "    }\n",
              "\n",
              "    .dataframe tbody tr th {\n",
              "        vertical-align: top;\n",
              "    }\n",
              "\n",
              "    .dataframe thead th {\n",
              "        text-align: right;\n",
              "    }\n",
              "</style>\n",
              "<table border=\"1\" class=\"dataframe\">\n",
              "  <thead>\n",
              "    <tr style=\"text-align: right;\">\n",
              "      <th></th>\n",
              "      <th>name</th>\n",
              "      <th>categories</th>\n",
              "      <th>address</th>\n",
              "      <th>lat</th>\n",
              "      <th>lng</th>\n",
              "      <th>labeledLatLngs</th>\n",
              "      <th>distance</th>\n",
              "      <th>postalCode</th>\n",
              "      <th>cc</th>\n",
              "      <th>city</th>\n",
              "      <th>state</th>\n",
              "      <th>country</th>\n",
              "      <th>formattedAddress</th>\n",
              "      <th>id</th>\n",
              "    </tr>\n",
              "  </thead>\n",
              "  <tbody>\n",
              "    <tr>\n",
              "      <th>0</th>\n",
              "      <td>Harry's Italian Pizza Bar</td>\n",
              "      <td>Pizza Place</td>\n",
              "      <td>225 Murray St</td>\n",
              "      <td>40.715218</td>\n",
              "      <td>-74.014739</td>\n",
              "      <td>[{'label': 'display', 'lat': 40.71521779064671...</td>\n",
              "      <td>77</td>\n",
              "      <td>10282</td>\n",
              "      <td>US</td>\n",
              "      <td>New York</td>\n",
              "      <td>NY</td>\n",
              "      <td>United States</td>\n",
              "      <td>[225 Murray St, New York, NY 10282, United Sta...</td>\n",
              "      <td>4fa862b3e4b0ebff2f749f06</td>\n",
              "    </tr>\n",
              "    <tr>\n",
              "      <th>1</th>\n",
              "      <td>Conca Cucina Italian Restaurant</td>\n",
              "      <td>Food</td>\n",
              "      <td>63 W Broadway</td>\n",
              "      <td>40.714484</td>\n",
              "      <td>-74.009806</td>\n",
              "      <td>[{'label': 'display', 'lat': 40.71448400000000...</td>\n",
              "      <td>499</td>\n",
              "      <td>10007</td>\n",
              "      <td>US</td>\n",
              "      <td>New York</td>\n",
              "      <td>NY</td>\n",
              "      <td>United States</td>\n",
              "      <td>[63 W Broadway, New York, NY 10007, United Sta...</td>\n",
              "      <td>4f3232e219836c91c7bfde94</td>\n",
              "    </tr>\n",
              "  </tbody>\n",
              "</table>\n",
              "</div>"
            ],
            "text/plain": [
              "                              name  ...                        id\n",
              "0        Harry's Italian Pizza Bar  ...  4fa862b3e4b0ebff2f749f06\n",
              "1  Conca Cucina Italian Restaurant  ...  4f3232e219836c91c7bfde94\n",
              "\n",
              "[2 rows x 14 columns]"
            ]
          },
          "metadata": {
            "tags": []
          },
          "execution_count": 10
        }
      ]
    },
    {
      "cell_type": "markdown",
      "metadata": {
        "button": false,
        "deletable": true,
        "new_sheet": false,
        "run_control": {
          "read_only": false
        },
        "id": "2kctWCSW4inc",
        "colab_type": "text"
      },
      "source": [
        "#### Let's visualize the Italian restaurants that are nearby"
      ]
    },
    {
      "cell_type": "code",
      "metadata": {
        "button": false,
        "deletable": true,
        "new_sheet": false,
        "run_control": {
          "read_only": false
        },
        "id": "ky25uvHT4ind",
        "colab_type": "code",
        "colab": {
          "base_uri": "https://localhost:8080/",
          "height": 69
        },
        "outputId": "bc34a354-1190-4e7e-8f4f-3ca1da9bf357"
      },
      "source": [
        "dataframe_filtered.name"
      ],
      "execution_count": 11,
      "outputs": [
        {
          "output_type": "execute_result",
          "data": {
            "text/plain": [
              "0          Harry's Italian Pizza Bar\n",
              "1    Conca Cucina Italian Restaurant\n",
              "Name: name, dtype: object"
            ]
          },
          "metadata": {
            "tags": []
          },
          "execution_count": 11
        }
      ]
    },
    {
      "cell_type": "code",
      "metadata": {
        "button": false,
        "deletable": true,
        "new_sheet": false,
        "run_control": {
          "read_only": false
        },
        "scrolled": false,
        "id": "LqPJlIZM4ine",
        "colab_type": "code",
        "colab": {
          "base_uri": "https://localhost:8080/",
          "height": 681
        },
        "outputId": "bd7a61ba-46e8-4031-b073-a1de6d37dec6"
      },
      "source": [
        "venues_map = folium.Map(location=[latitude, longitude], zoom_start=13) # generate map centred around the Conrad Hotel\n",
        "\n",
        "# add a red circle marker to represent the Conrad Hotel\n",
        "folium.CircleMarker(\n",
        "    [latitude, longitude],\n",
        "    radius=10,\n",
        "    color='red',\n",
        "    popup='Conrad Hotel',\n",
        "    fill = True,\n",
        "    fill_color = 'red',\n",
        "    fill_opacity = 0.6\n",
        ").add_to(venues_map)\n",
        "\n",
        "# add the Italian restaurants as blue circle markers\n",
        "for lat, lng, label in zip(dataframe_filtered.lat, dataframe_filtered.lng, dataframe_filtered.categories):\n",
        "    folium.CircleMarker(\n",
        "        [lat, lng],\n",
        "        radius=5,\n",
        "        color='blue',\n",
        "        popup=label,\n",
        "        fill = True,\n",
        "        fill_color='blue',\n",
        "        fill_opacity=0.6\n",
        "    ).add_to(venues_map)\n",
        "\n",
        "# display map\n",
        "venues_map"
      ],
      "execution_count": 12,
      "outputs": [
        {
          "output_type": "execute_result",
          "data": {
            "text/html": [
              "<div style=\"width:100%;\"><div style=\"position:relative;width:100%;height:0;padding-bottom:60%;\"><span style=\"color:#565656\">Make this Notebook Trusted to load map: File -> Trust Notebook</span><iframe src=\"about:blank\" style=\"position:absolute;width:100%;height:100%;left:0;top:0;border:none !important;\" data-html=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 onload=\"this.contentDocument.open();this.contentDocument.write(atob(this.getAttribute('data-html')));this.contentDocument.close();\" allowfullscreen webkitallowfullscreen mozallowfullscreen></iframe></div></div>"
            ],
            "text/plain": [
              "<folium.folium.Map at 0x7f94aa8ae780>"
            ]
          },
          "metadata": {
            "tags": []
          },
          "execution_count": 12
        }
      ]
    },
    {
      "cell_type": "markdown",
      "metadata": {
        "button": false,
        "deletable": true,
        "new_sheet": false,
        "run_control": {
          "read_only": false
        },
        "id": "nadPtVxl4ing",
        "colab_type": "text"
      },
      "source": [
        "   "
      ]
    },
    {
      "cell_type": "markdown",
      "metadata": {
        "button": false,
        "deletable": true,
        "new_sheet": false,
        "run_control": {
          "read_only": false
        },
        "id": "j5bhY-EQ4inh",
        "colab_type": "text"
      },
      "source": [
        "<a id=\"item2\"></a>"
      ]
    },
    {
      "cell_type": "markdown",
      "metadata": {
        "button": false,
        "deletable": true,
        "new_sheet": false,
        "run_control": {
          "read_only": false
        },
        "id": "AwLQ5ocv4inh",
        "colab_type": "text"
      },
      "source": [
        "## 2. Explore a Given Venue\n",
        "> `https://api.foursquare.com/v2/venues/`**VENUE_ID**`?client_id=`**CLIENT_ID**`&client_secret=`**CLIENT_SECRET**`&v=`**VERSION**"
      ]
    },
    {
      "cell_type": "markdown",
      "metadata": {
        "button": false,
        "deletable": true,
        "new_sheet": false,
        "run_control": {
          "read_only": false
        },
        "id": "-dBcJPBS4ini",
        "colab_type": "text"
      },
      "source": [
        "### A. Let's explore the closest Italian restaurant -- _Harry's Italian Pizza Bar_"
      ]
    },
    {
      "cell_type": "code",
      "metadata": {
        "button": false,
        "deletable": true,
        "new_sheet": false,
        "run_control": {
          "read_only": false
        },
        "id": "7oAgiNwM4ini",
        "colab_type": "code",
        "colab": {
          "base_uri": "https://localhost:8080/",
          "height": 52
        },
        "outputId": "195f1f56-6be6-46c4-8af1-86a651c2f751"
      },
      "source": [
        "venue_id = '4fa862b3e4b0ebff2f749f06' # ID of Harry's Italian Pizza Bar\n",
        "url = 'https://api.foursquare.com/v2/venues/{}?client_id={}&client_secret={}&v={}'.format(venue_id, CLIENT_ID, CLIENT_SECRET, VERSION)\n",
        "url"
      ],
      "execution_count": 13,
      "outputs": [
        {
          "output_type": "execute_result",
          "data": {
            "application/vnd.google.colaboratory.intrinsic": {
              "type": "string"
            },
            "text/plain": [
              "'https://api.foursquare.com/v2/venues/4fa862b3e4b0ebff2f749f06?client_id=UGZ02U5FOWXHIWQAWWVMJ25DPLLSQ10WXESWA32G53FM1AGS&client_secret=VWINXOWSF0U2JHTFYFDQ1XQAGYK1LPWL1K1GM0FFARXFDWUI&v=20200707'"
            ]
          },
          "metadata": {
            "tags": []
          },
          "execution_count": 13
        }
      ]
    },
    {
      "cell_type": "markdown",
      "metadata": {
        "button": false,
        "deletable": true,
        "new_sheet": false,
        "run_control": {
          "read_only": false
        },
        "id": "U9t8SNe64ink",
        "colab_type": "text"
      },
      "source": [
        "#### Send GET request for result"
      ]
    },
    {
      "cell_type": "code",
      "metadata": {
        "button": false,
        "deletable": true,
        "new_sheet": false,
        "run_control": {
          "read_only": false
        },
        "id": "wcYcqx1E4inl",
        "colab_type": "code",
        "colab": {
          "base_uri": "https://localhost:8080/",
          "height": 1000
        },
        "outputId": "79fb4f99-2c97-4de2-a6e7-3aa6afb98a09"
      },
      "source": [
        "result = requests.get(url).json()\n",
        "print(result['response']['venue'].keys())\n",
        "result['response']['venue']"
      ],
      "execution_count": 14,
      "outputs": [
        {
          "output_type": "stream",
          "text": [
            "dict_keys(['id', 'name', 'contact', 'location', 'canonicalUrl', 'categories', 'verified', 'stats', 'url', 'price', 'hasMenu', 'likes', 'dislike', 'ok', 'rating', 'ratingColor', 'ratingSignals', 'menu', 'allowMenuUrlEdit', 'beenHere', 'specials', 'photos', 'reasons', 'hereNow', 'createdAt', 'tips', 'shortUrl', 'timeZone', 'listed', 'hours', 'popular', 'seasonalHours', 'defaultHours', 'pageUpdates', 'inbox', 'attributes', 'bestPhoto', 'colors'])\n"
          ],
          "name": "stdout"
        },
        {
          "output_type": "execute_result",
          "data": {
            "text/plain": [
              "{'allowMenuUrlEdit': True,\n",
              " 'attributes': {'groups': [{'count': 1,\n",
              "    'items': [{'displayName': 'Price', 'displayValue': '$$', 'priceTier': 2}],\n",
              "    'name': 'Price',\n",
              "    'summary': '$$',\n",
              "    'type': 'price'},\n",
              "   {'count': 7,\n",
              "    'items': [{'displayName': 'Credit Cards',\n",
              "      'displayValue': 'Yes (incl. American Express)'}],\n",
              "    'name': 'Credit Cards',\n",
              "    'summary': 'Credit Cards',\n",
              "    'type': 'payments'},\n",
              "   {'count': 1,\n",
              "    'items': [{'displayName': 'Outdoor Seating', 'displayValue': 'Yes'}],\n",
              "    'name': 'Outdoor Seating',\n",
              "    'summary': 'Outdoor Seating',\n",
              "    'type': 'outdoorSeating'},\n",
              "   {'count': 8,\n",
              "    'items': [{'displayName': 'Brunch', 'displayValue': 'Brunch'},\n",
              "     {'displayName': 'Lunch', 'displayValue': 'Lunch'},\n",
              "     {'displayName': 'Dinner', 'displayValue': 'Dinner'},\n",
              "     {'displayName': 'Happy Hour', 'displayValue': 'Happy Hour'}],\n",
              "    'name': 'Menus',\n",
              "    'summary': 'Happy Hour, Brunch & more',\n",
              "    'type': 'serves'},\n",
              "   {'count': 5,\n",
              "    'items': [{'displayName': 'Beer', 'displayValue': 'Beer'},\n",
              "     {'displayName': 'Wine', 'displayValue': 'Wine'},\n",
              "     {'displayName': 'Cocktails', 'displayValue': 'Cocktails'}],\n",
              "    'name': 'Drinks',\n",
              "    'summary': 'Beer, Wine & Cocktails',\n",
              "    'type': 'drinks'}]},\n",
              " 'beenHere': {'count': 0,\n",
              "  'lastCheckinExpiredAt': 0,\n",
              "  'marked': False,\n",
              "  'unconfirmedCount': 0},\n",
              " 'bestPhoto': {'createdAt': 1336776717,\n",
              "  'height': 640,\n",
              "  'id': '4fad980de4b091b4626c3633',\n",
              "  'prefix': 'https://fastly.4sqi.net/img/general/',\n",
              "  'source': {'name': 'Foursquare for Android',\n",
              "   'url': 'https://foursquare.com/download/#/android'},\n",
              "  'suffix': '/ya1iQFI7pLjuIJp1PGDKlrZS3OJdHCF7tpILMmjv_2w.jpg',\n",
              "  'visibility': 'public',\n",
              "  'width': 480},\n",
              " 'canonicalUrl': 'https://foursquare.com/v/harrys-italian-pizza-bar/4fa862b3e4b0ebff2f749f06',\n",
              " 'categories': [{'icon': {'prefix': 'https://ss3.4sqi.net/img/categories_v2/food/pizza_',\n",
              "    'suffix': '.png'},\n",
              "   'id': '4bf58dd8d48988d1ca941735',\n",
              "   'name': 'Pizza Place',\n",
              "   'pluralName': 'Pizza Places',\n",
              "   'primary': True,\n",
              "   'shortName': 'Pizza'},\n",
              "  {'icon': {'prefix': 'https://ss3.4sqi.net/img/categories_v2/food/italian_',\n",
              "    'suffix': '.png'},\n",
              "   'id': '4bf58dd8d48988d110941735',\n",
              "   'name': 'Italian Restaurant',\n",
              "   'pluralName': 'Italian Restaurants',\n",
              "   'shortName': 'Italian'}],\n",
              " 'colors': {'algoVersion': 3,\n",
              "  'highlightColor': {'photoId': '4fad980de4b091b4626c3633',\n",
              "   'value': -13619152},\n",
              "  'highlightTextColor': {'photoId': '4fad980de4b091b4626c3633', 'value': -1}},\n",
              " 'contact': {'formattedPhone': '(212) 608-1007', 'phone': '2126081007'},\n",
              " 'createdAt': 1336435379,\n",
              " 'defaultHours': {'dayData': [],\n",
              "  'isLocalHoliday': False,\n",
              "  'isOpen': False,\n",
              "  'richStatus': {'entities': [], 'text': 'Closed until 11:30 AM'},\n",
              "  'status': 'Closed until 11:30 AM',\n",
              "  'timeframes': [{'days': 'Mon–Wed, Sun',\n",
              "    'includesToday': True,\n",
              "    'open': [{'renderedTime': '11:30 AM–11:00 PM'}],\n",
              "    'segments': []},\n",
              "   {'days': 'Thu–Sat',\n",
              "    'open': [{'renderedTime': '11:30 AM–Midnight'}],\n",
              "    'segments': []}]},\n",
              " 'dislike': False,\n",
              " 'hasMenu': True,\n",
              " 'hereNow': {'count': 0, 'groups': [], 'summary': 'Nobody here'},\n",
              " 'hours': {'dayData': [],\n",
              "  'isLocalHoliday': False,\n",
              "  'isOpen': False,\n",
              "  'richStatus': {'entities': [], 'text': 'Closed until 11:30 AM'},\n",
              "  'status': 'Closed until 11:30 AM',\n",
              "  'timeframes': [{'days': 'Mon–Wed, Sun',\n",
              "    'includesToday': True,\n",
              "    'open': [{'renderedTime': '11:30 AM–11:00 PM'}],\n",
              "    'segments': []},\n",
              "   {'days': 'Thu–Sat',\n",
              "    'open': [{'renderedTime': '11:30 AM–Midnight'}],\n",
              "    'segments': []}]},\n",
              " 'id': '4fa862b3e4b0ebff2f749f06',\n",
              " 'inbox': {'count': 0, 'items': []},\n",
              " 'likes': {'count': 120,\n",
              "  'groups': [{'count': 120, 'items': [], 'type': 'others'}],\n",
              "  'summary': '120 Likes'},\n",
              " 'listed': {'count': 54,\n",
              "  'groups': [{'count': 54,\n",
              "    'items': [{'canonicalUrl': 'https://foursquare.com/becca_mcarthur/list/manhattan-haunts',\n",
              "      'collaborative': False,\n",
              "      'createdAt': 1336094672,\n",
              "      'description': '',\n",
              "      'editable': False,\n",
              "      'followers': {'count': 22},\n",
              "      'id': '4fa32fd0e4b04193744746b1',\n",
              "      'listItems': {'count': 187,\n",
              "       'items': [{'createdAt': 1342934485,\n",
              "         'id': 'v4fa862b3e4b0ebff2f749f06'}]},\n",
              "      'name': 'Manhattan Haunts',\n",
              "      'photo': {'createdAt': 1317849414,\n",
              "       'height': 330,\n",
              "       'id': '4e8cc9461081e3b3544e12e5',\n",
              "       'prefix': 'https://fastly.4sqi.net/img/general/',\n",
              "       'suffix': '/0NLVU2HC1JF4DXIMKWUFW3QBUT31DC11EFNYYHMJG3NDWAPS.jpg',\n",
              "       'user': {'firstName': 'Time Out New York',\n",
              "        'id': '742542',\n",
              "        'photo': {'prefix': 'https://fastly.4sqi.net/img/user/',\n",
              "         'suffix': '/XXHKCBSQHBORZNSR.jpg'},\n",
              "        'type': 'page'},\n",
              "       'visibility': 'public',\n",
              "       'width': 492},\n",
              "      'public': True,\n",
              "      'type': 'others',\n",
              "      'updatedAt': 1380845377,\n",
              "      'url': '/becca_mcarthur/list/manhattan-haunts',\n",
              "      'user': {'firstName': 'Becca',\n",
              "       'id': '24592223',\n",
              "       'lastName': 'M',\n",
              "       'photo': {'prefix': 'https://fastly.4sqi.net/img/user/',\n",
              "        'suffix': '/24592223-RAW2UYM0GIB1U40K.jpg'}}},\n",
              "     {'canonicalUrl': 'https://foursquare.com/kinosfault/list/usa-nyc-man-fidi',\n",
              "      'collaborative': False,\n",
              "      'createdAt': 1336836475,\n",
              "      'description': 'Where to go for decent eats in the restaurant wasteland of Downtown NYC aka FiDi, along with Tribeca & Battery Park City.',\n",
              "      'editable': False,\n",
              "      'followers': {'count': 20},\n",
              "      'id': '4fae817be4b085f6b2a74d19',\n",
              "      'listItems': {'count': 273,\n",
              "       'items': [{'createdAt': 1373909433,\n",
              "         'id': 'v4fa862b3e4b0ebff2f749f06'}]},\n",
              "      'name': 'USA NYC MAN FiDi',\n",
              "      'photo': {'createdAt': 1436043666,\n",
              "       'height': 960,\n",
              "       'id': '55984992498e13ba75e353bb',\n",
              "       'prefix': 'https://fastly.4sqi.net/img/general/',\n",
              "       'suffix': '/12113441_iOa6Uh-Xi8bhj2-gpzkkw8MKiAIs7RmOcz_RM7m8ink.jpg',\n",
              "       'user': {'firstName': 'Kino',\n",
              "        'id': '12113441',\n",
              "        'photo': {'prefix': 'https://fastly.4sqi.net/img/user/',\n",
              "         'suffix': '/12113441-K5HTHFLU2MUCM0CM.jpg'}},\n",
              "       'visibility': 'public',\n",
              "       'width': 540},\n",
              "      'public': True,\n",
              "      'type': 'others',\n",
              "      'updatedAt': 1556754919,\n",
              "      'url': '/kinosfault/list/usa-nyc-man-fidi',\n",
              "      'user': {'firstName': 'Kino',\n",
              "       'id': '12113441',\n",
              "       'photo': {'prefix': 'https://fastly.4sqi.net/img/user/',\n",
              "        'suffix': '/12113441-K5HTHFLU2MUCM0CM.jpg'}}},\n",
              "     {'canonicalUrl': 'https://foursquare.com/rickr7/list/nyc-resturants',\n",
              "      'collaborative': True,\n",
              "      'createdAt': 1339944944,\n",
              "      'description': '',\n",
              "      'editable': False,\n",
              "      'followers': {'count': 12},\n",
              "      'id': '4fddeff0e4b0e078037ac0d3',\n",
              "      'listItems': {'count': 193,\n",
              "       'items': [{'createdAt': 1581655865,\n",
              "         'id': 'v4fa862b3e4b0ebff2f749f06'}]},\n",
              "      'name': 'NYC Resturants',\n",
              "      'photo': {'createdAt': 1349704979,\n",
              "       'height': 800,\n",
              "       'id': '5072dd13e4b09145cdf782d1',\n",
              "       'prefix': 'https://fastly.4sqi.net/img/general/',\n",
              "       'suffix': '/208205_fGh2OuAZ9qJ4agbAA5wMVNOSIm9kNUlRtNwj1N-adqg.jpg',\n",
              "       'user': {'firstName': 'Thalia',\n",
              "        'id': '208205',\n",
              "        'lastName': 'K',\n",
              "        'photo': {'prefix': 'https://fastly.4sqi.net/img/user/',\n",
              "         'suffix': '/SNOOLCAW2AG04ZKD.jpg'}},\n",
              "       'visibility': 'public',\n",
              "       'width': 800},\n",
              "      'public': True,\n",
              "      'type': 'others',\n",
              "      'updatedAt': 1591664261,\n",
              "      'url': '/rickr7/list/nyc-resturants',\n",
              "      'user': {'firstName': 'Richard',\n",
              "       'id': '21563126',\n",
              "       'lastName': 'R',\n",
              "       'photo': {'prefix': 'https://fastly.4sqi.net/img/user/',\n",
              "        'suffix': '/21563126_v05J1KPw_SVj6Ehq9g8B9jeAGjFUMsU5QGl-NZ8inUQ7pKQm5bKplW37EmR7jS2A7GYPBBAtl.jpg'}}},\n",
              "     {'canonicalUrl': 'https://foursquare.com/sweetiewill/list/foodie-love-in-ny--02',\n",
              "      'collaborative': False,\n",
              "      'createdAt': 1382467210,\n",
              "      'description': '',\n",
              "      'editable': False,\n",
              "      'followers': {'count': 7},\n",
              "      'id': '5266c68a498e7c667807fe09',\n",
              "      'listItems': {'count': 200,\n",
              "       'items': [{'createdAt': 1386809936,\n",
              "         'id': 'v4fa862b3e4b0ebff2f749f06'}]},\n",
              "      'name': 'Foodie Love in NY - 02',\n",
              "      'public': True,\n",
              "      'type': 'others',\n",
              "      'updatedAt': 1391995585,\n",
              "      'url': '/sweetiewill/list/foodie-love-in-ny--02',\n",
              "      'user': {'firstName': 'WiLL',\n",
              "       'id': '547977',\n",
              "       'photo': {'prefix': 'https://fastly.4sqi.net/img/user/',\n",
              "        'suffix': '/-Q5NYGDMFDMOITQRR.jpg'}}}],\n",
              "    'name': 'Lists from other people',\n",
              "    'type': 'others'}]},\n",
              " 'location': {'address': '225 Murray St',\n",
              "  'cc': 'US',\n",
              "  'city': 'New York',\n",
              "  'country': 'United States',\n",
              "  'formattedAddress': ['225 Murray St', 'New York, NY 10282', 'United States'],\n",
              "  'labeledLatLngs': [{'label': 'display',\n",
              "    'lat': 40.71521779064671,\n",
              "    'lng': -74.01473940209351},\n",
              "   {'label': 'entrance', 'lat': 40.715361, 'lng': -74.014975}],\n",
              "  'lat': 40.71521779064671,\n",
              "  'lng': -74.01473940209351,\n",
              "  'postalCode': '10282',\n",
              "  'state': 'NY'},\n",
              " 'menu': {'anchor': 'View Menu',\n",
              "  'label': 'Menu',\n",
              "  'mobileUrl': 'https://foursquare.com/v/4fa862b3e4b0ebff2f749f06/device_menu',\n",
              "  'type': 'Menu',\n",
              "  'url': 'https://foursquare.com/v/harrys-italian-pizza-bar/4fa862b3e4b0ebff2f749f06/menu'},\n",
              " 'name': \"Harry's Italian Pizza Bar\",\n",
              " 'ok': False,\n",
              " 'pageUpdates': {'count': 0, 'items': []},\n",
              " 'photos': {'count': 146,\n",
              "  'groups': [{'count': 146,\n",
              "    'items': [{'createdAt': 1336776717,\n",
              "      'height': 640,\n",
              "      'id': '4fad980de4b091b4626c3633',\n",
              "      'prefix': 'https://fastly.4sqi.net/img/general/',\n",
              "      'source': {'name': 'Foursquare for Android',\n",
              "       'url': 'https://foursquare.com/download/#/android'},\n",
              "      'suffix': '/ya1iQFI7pLjuIJp1PGDKlrZS3OJdHCF7tpILMmjv_2w.jpg',\n",
              "      'user': {'firstName': 'Leony',\n",
              "       'id': '13676709',\n",
              "       'lastName': 'N',\n",
              "       'photo': {'prefix': 'https://fastly.4sqi.net/img/user/',\n",
              "        'suffix': '/T0ANFNGNMCHUDEUE.jpg'}},\n",
              "      'visibility': 'public',\n",
              "      'width': 480}],\n",
              "    'name': 'Venue photos',\n",
              "    'type': 'venue'}]},\n",
              " 'popular': {'isLocalHoliday': False,\n",
              "  'isOpen': False,\n",
              "  'timeframes': [{'days': 'Today',\n",
              "    'includesToday': True,\n",
              "    'open': [{'renderedTime': 'Noon–2:00 PM'},\n",
              "     {'renderedTime': '5:00 PM–10:00 PM'}],\n",
              "    'segments': []},\n",
              "   {'days': 'Thu',\n",
              "    'open': [{'renderedTime': 'Noon–2:00 PM'},\n",
              "     {'renderedTime': '5:00 PM–10:00 PM'}],\n",
              "    'segments': []},\n",
              "   {'days': 'Fri',\n",
              "    'open': [{'renderedTime': 'Noon–3:00 PM'},\n",
              "     {'renderedTime': '5:00 PM–11:00 PM'}],\n",
              "    'segments': []},\n",
              "   {'days': 'Sat',\n",
              "    'open': [{'renderedTime': 'Noon–11:00 PM'}],\n",
              "    'segments': []},\n",
              "   {'days': 'Sun',\n",
              "    'open': [{'renderedTime': 'Noon–3:00 PM'},\n",
              "     {'renderedTime': '5:00 PM–8:00 PM'}],\n",
              "    'segments': []},\n",
              "   {'days': 'Mon',\n",
              "    'open': [{'renderedTime': 'Noon–2:00 PM'},\n",
              "     {'renderedTime': '6:00 PM–8:00 PM'}],\n",
              "    'segments': []},\n",
              "   {'days': 'Tue',\n",
              "    'open': [{'renderedTime': 'Noon–2:00 PM'},\n",
              "     {'renderedTime': '5:00 PM–10:00 PM'}],\n",
              "    'segments': []}]},\n",
              " 'price': {'currency': '$', 'message': 'Moderate', 'tier': 2},\n",
              " 'rating': 6.9,\n",
              " 'ratingColor': 'FFC800',\n",
              " 'ratingSignals': 212,\n",
              " 'reasons': {'count': 1,\n",
              "  'items': [{'reasonName': 'rawLikesReason',\n",
              "    'summary': 'Lots of people like this place',\n",
              "    'type': 'general'}]},\n",
              " 'seasonalHours': [],\n",
              " 'shortUrl': 'http://4sq.com/JNblHV',\n",
              " 'specials': {'count': 0, 'items': []},\n",
              " 'stats': {'tipCount': 57},\n",
              " 'timeZone': 'America/New_York',\n",
              " 'tips': {'count': 57,\n",
              "  'groups': [{'count': 57,\n",
              "    'items': [{'agreeCount': 4,\n",
              "      'canonicalUrl': 'https://foursquare.com/item/53d27909498e0523841340b6',\n",
              "      'createdAt': 1406302473,\n",
              "      'disagreeCount': 0,\n",
              "      'id': '53d27909498e0523841340b6',\n",
              "      'lang': 'en',\n",
              "      'likes': {'count': 4,\n",
              "       'groups': [{'count': 4,\n",
              "         'items': [{'firstName': 'P.',\n",
              "           'id': '369426',\n",
              "           'lastName': 'M',\n",
              "           'photo': {'prefix': 'https://fastly.4sqi.net/img/user/',\n",
              "            'suffix': '/JPQYUWJKUT0H2OO4.jpg'}},\n",
              "          {'firstName': 'Diane',\n",
              "           'id': '87587879',\n",
              "           'lastName': 'D',\n",
              "           'photo': {'prefix': 'https://fastly.4sqi.net/img/user/',\n",
              "            'suffix': '/87587879-ESLRSZLQ2CBE2P4W.jpg'}},\n",
              "          {'firstName': 'Tim',\n",
              "           'id': '87591341',\n",
              "           'lastName': 'S',\n",
              "           'photo': {'prefix': 'https://fastly.4sqi.net/img/user/',\n",
              "            'suffix': '/-Z4YK4VKE0JSVXIY1.jpg'}},\n",
              "          {'firstName': 'TenantKing.com',\n",
              "           'id': '87473404',\n",
              "           'photo': {'prefix': 'https://fastly.4sqi.net/img/user/',\n",
              "            'suffix': '/87473404-HI5DTBTK0HX401CA.png'},\n",
              "           'type': 'page'}],\n",
              "         'type': 'others'}],\n",
              "       'summary': '4 likes'},\n",
              "      'logView': True,\n",
              "      'text': \"Harry's Italian Pizza bar is known for it's amazing pizza, but did you know that the brunches here are amazing too? Try the Nutella French toast and we know you'll be sold.\",\n",
              "      'todo': {'count': 0},\n",
              "      'type': 'user',\n",
              "      'user': {'firstName': 'TenantKing.com',\n",
              "       'id': '87473404',\n",
              "       'photo': {'prefix': 'https://fastly.4sqi.net/img/user/',\n",
              "        'suffix': '/87473404-HI5DTBTK0HX401CA.png'},\n",
              "       'type': 'page'}}],\n",
              "    'name': 'All tips',\n",
              "    'type': 'others'}]},\n",
              " 'url': 'http://harrysitalian.com',\n",
              " 'verified': False}"
            ]
          },
          "metadata": {
            "tags": []
          },
          "execution_count": 14
        }
      ]
    },
    {
      "cell_type": "markdown",
      "metadata": {
        "button": false,
        "deletable": true,
        "new_sheet": false,
        "run_control": {
          "read_only": false
        },
        "id": "Zilu6Dyo4inm",
        "colab_type": "text"
      },
      "source": [
        "### B. Get the venue's overall rating"
      ]
    },
    {
      "cell_type": "code",
      "metadata": {
        "button": false,
        "deletable": true,
        "new_sheet": false,
        "run_control": {
          "read_only": false
        },
        "id": "9JvPnL_E4inn",
        "colab_type": "code",
        "colab": {
          "base_uri": "https://localhost:8080/",
          "height": 34
        },
        "outputId": "d8508dd5-1601-4c9d-b09b-04f8a655d3b8"
      },
      "source": [
        "try:\n",
        "    print(result['response']['venue']['rating'])\n",
        "except:\n",
        "    print('This venue has not been rated yet.')"
      ],
      "execution_count": 15,
      "outputs": [
        {
          "output_type": "stream",
          "text": [
            "6.9\n"
          ],
          "name": "stdout"
        }
      ]
    },
    {
      "cell_type": "markdown",
      "metadata": {
        "button": false,
        "deletable": true,
        "new_sheet": false,
        "run_control": {
          "read_only": false
        },
        "id": "k9v3ZciU4inp",
        "colab_type": "text"
      },
      "source": [
        "That is not a very good rating. Let's check the rating of the second closest Italian restaurant."
      ]
    },
    {
      "cell_type": "code",
      "metadata": {
        "button": false,
        "deletable": true,
        "new_sheet": false,
        "run_control": {
          "read_only": false
        },
        "id": "bjUWh9jd4inp",
        "colab_type": "code",
        "colab": {
          "base_uri": "https://localhost:8080/",
          "height": 34
        },
        "outputId": "4136ed66-c635-4c12-bcbe-66de005f31a1"
      },
      "source": [
        "venue_id = '4f3232e219836c91c7bfde94' # ID of Conca Cucina Italian Restaurant\n",
        "url = 'https://api.foursquare.com/v2/venues/{}?client_id={}&client_secret={}&v={}'.format(venue_id, CLIENT_ID, CLIENT_SECRET, VERSION)\n",
        "\n",
        "result = requests.get(url).json()\n",
        "try:\n",
        "    print(result['response']['venue']['rating'])\n",
        "except:\n",
        "    print('This venue has not been rated yet.')"
      ],
      "execution_count": 16,
      "outputs": [
        {
          "output_type": "stream",
          "text": [
            "This venue has not been rated yet.\n"
          ],
          "name": "stdout"
        }
      ]
    },
    {
      "cell_type": "markdown",
      "metadata": {
        "button": false,
        "deletable": true,
        "new_sheet": false,
        "run_control": {
          "read_only": false
        },
        "id": "KK0Fu8ch4inr",
        "colab_type": "text"
      },
      "source": [
        "Since this restaurant has no ratings, let's check the third restaurant."
      ]
    },
    {
      "cell_type": "code",
      "metadata": {
        "button": false,
        "deletable": true,
        "new_sheet": false,
        "run_control": {
          "read_only": false
        },
        "id": "j1o5wV0D4inr",
        "colab_type": "code",
        "colab": {
          "base_uri": "https://localhost:8080/",
          "height": 34
        },
        "outputId": "b551c5c7-7f1a-4c40-9da9-b7179644e5bc"
      },
      "source": [
        "venue_id = '3fd66200f964a520f4e41ee3' # ID of Ecco\n",
        "url = 'https://api.foursquare.com/v2/venues/{}?client_id={}&client_secret={}&v={}'.format(venue_id, CLIENT_ID, CLIENT_SECRET, VERSION)\n",
        "\n",
        "result = requests.get(url).json()\n",
        "try:\n",
        "    print(result['response']['venue']['rating'])\n",
        "except:\n",
        "    print('This venue has not been rated yet.')"
      ],
      "execution_count": 17,
      "outputs": [
        {
          "output_type": "stream",
          "text": [
            "7.3\n"
          ],
          "name": "stdout"
        }
      ]
    },
    {
      "cell_type": "markdown",
      "metadata": {
        "button": false,
        "deletable": true,
        "new_sheet": false,
        "run_control": {
          "read_only": false
        },
        "id": "kro8BEZi4int",
        "colab_type": "text"
      },
      "source": [
        "Since this restaurant has a slightly better rating, let's explore it further."
      ]
    },
    {
      "cell_type": "markdown",
      "metadata": {
        "button": false,
        "deletable": true,
        "new_sheet": false,
        "run_control": {
          "read_only": false
        },
        "id": "VhuAPEQU4int",
        "colab_type": "text"
      },
      "source": [
        "### C. Get the number of tips"
      ]
    },
    {
      "cell_type": "code",
      "metadata": {
        "button": false,
        "deletable": true,
        "new_sheet": false,
        "run_control": {
          "read_only": false
        },
        "id": "oXjkNNLQ4inu",
        "colab_type": "code",
        "colab": {
          "base_uri": "https://localhost:8080/",
          "height": 34
        },
        "outputId": "e21342b1-6369-4963-9101-94afdb0a4af1"
      },
      "source": [
        "result['response']['venue']['tips']['count']"
      ],
      "execution_count": 18,
      "outputs": [
        {
          "output_type": "execute_result",
          "data": {
            "text/plain": [
              "19"
            ]
          },
          "metadata": {
            "tags": []
          },
          "execution_count": 18
        }
      ]
    },
    {
      "cell_type": "markdown",
      "metadata": {
        "button": false,
        "deletable": true,
        "new_sheet": false,
        "run_control": {
          "read_only": false
        },
        "id": "QiZmnzHg4inv",
        "colab_type": "text"
      },
      "source": [
        "### D. Get the venue's tips\n",
        "> `https://api.foursquare.com/v2/venues/`**VENUE_ID**`/tips?client_id=`**CLIENT_ID**`&client_secret=`**CLIENT_SECRET**`&v=`**VERSION**`&limit=`**LIMIT**"
      ]
    },
    {
      "cell_type": "markdown",
      "metadata": {
        "button": false,
        "deletable": true,
        "new_sheet": false,
        "run_control": {
          "read_only": false
        },
        "id": "2CPFL1ot4inw",
        "colab_type": "text"
      },
      "source": [
        "#### Create URL and send GET request. Make sure to set limit to get all tips"
      ]
    },
    {
      "cell_type": "code",
      "metadata": {
        "button": false,
        "deletable": true,
        "new_sheet": false,
        "run_control": {
          "read_only": false
        },
        "id": "RDyscM3b4inw",
        "colab_type": "code",
        "colab": {
          "base_uri": "https://localhost:8080/",
          "height": 365
        },
        "outputId": "a323b7cb-5e52-4e93-b5a2-8252a5813b26"
      },
      "source": [
        "## Ecco Tips\n",
        "limit = 15 # set limit to be greater than or equal to the total number of tips\n",
        "url = 'https://api.foursquare.com/v2/venues/{}/tips?client_id={}&client_secret={}&v={}&limit={}'.format(venue_id, CLIENT_ID, CLIENT_SECRET, VERSION, limit)\n",
        "\n",
        "results = requests.get(url).json()\n",
        "results"
      ],
      "execution_count": 19,
      "outputs": [
        {
          "output_type": "execute_result",
          "data": {
            "text/plain": [
              "{'meta': {'code': 200, 'requestId': '5f0568d35bd87379b370bb3c'},\n",
              " 'response': {'tips': {'count': 19,\n",
              "   'items': [{'agreeCount': 4,\n",
              "     'authorInteractionType': 'liked',\n",
              "     'canonicalUrl': 'https://foursquare.com/item/5ab1cb46c9a517174651d3fe',\n",
              "     'createdAt': 1521601350,\n",
              "     'disagreeCount': 0,\n",
              "     'id': '5ab1cb46c9a517174651d3fe',\n",
              "     'lang': 'en',\n",
              "     'likes': {'count': 0, 'groups': []},\n",
              "     'logView': True,\n",
              "     'text': 'A+ Italian food! Trust me on this: my mom’s side of the family is 100% Italian. I was born and bred to know good pasta when I see it, and Ecco is one of my all-time NYC favorites',\n",
              "     'todo': {'count': 0},\n",
              "     'type': 'user',\n",
              "     'user': {'firstName': 'Nick',\n",
              "      'id': '484542633',\n",
              "      'lastName': 'E',\n",
              "      'photo': {'prefix': 'https://fastly.4sqi.net/img/user/',\n",
              "       'suffix': '/484542633_unymNUmw_FdPs3GjXHujmHcYnN4hf8kEPADlOZuIrdcdm97VX3tFqL7fFNMNA_8Gl9NlU1GYg.jpg'}}}]}}}"
            ]
          },
          "metadata": {
            "tags": []
          },
          "execution_count": 19
        }
      ]
    },
    {
      "cell_type": "markdown",
      "metadata": {
        "button": false,
        "deletable": true,
        "new_sheet": false,
        "run_control": {
          "read_only": false
        },
        "id": "Z1PffSyR4iny",
        "colab_type": "text"
      },
      "source": [
        "#### Get tips and list of associated features"
      ]
    },
    {
      "cell_type": "code",
      "metadata": {
        "button": false,
        "deletable": true,
        "new_sheet": false,
        "run_control": {
          "read_only": false
        },
        "id": "pLlnaH-04iny",
        "colab_type": "code",
        "colab": {
          "base_uri": "https://localhost:8080/",
          "height": 54
        },
        "outputId": "a21b31d1-01f5-48a3-aff6-232d40503c8d"
      },
      "source": [
        "tips = results['response']['tips']['items']\n",
        "\n",
        "tip = results['response']['tips']['items'][0]\n",
        "tip.keys()"
      ],
      "execution_count": 20,
      "outputs": [
        {
          "output_type": "execute_result",
          "data": {
            "text/plain": [
              "dict_keys(['id', 'createdAt', 'text', 'type', 'canonicalUrl', 'lang', 'likes', 'logView', 'agreeCount', 'disagreeCount', 'todo', 'user', 'authorInteractionType'])"
            ]
          },
          "metadata": {
            "tags": []
          },
          "execution_count": 20
        }
      ]
    },
    {
      "cell_type": "markdown",
      "metadata": {
        "button": false,
        "deletable": true,
        "new_sheet": false,
        "run_control": {
          "read_only": false
        },
        "id": "Q0M-OIni4in0",
        "colab_type": "text"
      },
      "source": [
        "#### Format column width and display all tips"
      ]
    },
    {
      "cell_type": "code",
      "metadata": {
        "button": false,
        "deletable": true,
        "new_sheet": false,
        "run_control": {
          "read_only": false
        },
        "scrolled": false,
        "id": "p6qdu5Ln4in0",
        "colab_type": "code",
        "colab": {
          "base_uri": "https://localhost:8080/",
          "height": 219
        },
        "outputId": "3009ea14-e38b-4237-c569-c84cf623628d"
      },
      "source": [
        "pd.set_option('display.max_colwidth', -1)\n",
        "\n",
        "tips_df = json_normalize(tips) # json normalize tips\n",
        "\n",
        "# columns to keep\n",
        "filtered_columns = ['text', 'agreeCount', 'disagreeCount', 'id', 'user.firstName', 'user.lastName', 'user.id']\n",
        "tips_filtered = tips_df.loc[:, filtered_columns]\n",
        "\n",
        "# display tips\n",
        "tips_filtered"
      ],
      "execution_count": 31,
      "outputs": [
        {
          "output_type": "stream",
          "text": [
            "/usr/local/lib/python3.6/dist-packages/ipykernel_launcher.py:1: FutureWarning: Passing a negative integer is deprecated in version 1.0 and will not be supported in future version. Instead, use None to not limit the column width.\n",
            "  \"\"\"Entry point for launching an IPython kernel.\n",
            "/usr/local/lib/python3.6/dist-packages/ipykernel_launcher.py:3: FutureWarning: pandas.io.json.json_normalize is deprecated, use pandas.json_normalize instead\n",
            "  This is separate from the ipykernel package so we can avoid doing imports until\n"
          ],
          "name": "stderr"
        },
        {
          "output_type": "execute_result",
          "data": {
            "text/html": [
              "<div>\n",
              "<style scoped>\n",
              "    .dataframe tbody tr th:only-of-type {\n",
              "        vertical-align: middle;\n",
              "    }\n",
              "\n",
              "    .dataframe tbody tr th {\n",
              "        vertical-align: top;\n",
              "    }\n",
              "\n",
              "    .dataframe thead th {\n",
              "        text-align: right;\n",
              "    }\n",
              "</style>\n",
              "<table border=\"1\" class=\"dataframe\">\n",
              "  <thead>\n",
              "    <tr style=\"text-align: right;\">\n",
              "      <th></th>\n",
              "      <th>text</th>\n",
              "      <th>agreeCount</th>\n",
              "      <th>disagreeCount</th>\n",
              "      <th>id</th>\n",
              "      <th>user.firstName</th>\n",
              "      <th>user.lastName</th>\n",
              "      <th>user.id</th>\n",
              "    </tr>\n",
              "  </thead>\n",
              "  <tbody>\n",
              "    <tr>\n",
              "      <th>0</th>\n",
              "      <td>A+ Italian food! Trust me on this: my mom’s side of the family is 100% Italian. I was born and bred to know good pasta when I see it, and Ecco is one of my all-time NYC favorites</td>\n",
              "      <td>4</td>\n",
              "      <td>0</td>\n",
              "      <td>5ab1cb46c9a517174651d3fe</td>\n",
              "      <td>Nick</td>\n",
              "      <td>E</td>\n",
              "      <td>484542633</td>\n",
              "    </tr>\n",
              "  </tbody>\n",
              "</table>\n",
              "</div>"
            ],
            "text/plain": [
              "                                                                                                                                                                                 text  ...    user.id\n",
              "0  A+ Italian food! Trust me on this: my mom’s side of the family is 100% Italian. I was born and bred to know good pasta when I see it, and Ecco is one of my all-time NYC favorites  ...  484542633\n",
              "\n",
              "[1 rows x 7 columns]"
            ]
          },
          "metadata": {
            "tags": []
          },
          "execution_count": 31
        }
      ]
    },
    {
      "cell_type": "markdown",
      "metadata": {
        "button": false,
        "deletable": true,
        "new_sheet": false,
        "run_control": {
          "read_only": false
        },
        "id": "48nuncfq4in2",
        "colab_type": "text"
      },
      "source": [
        "Now remember that because we are using a personal developer account, then we can access only 2 of the restaurant's tips, instead of all 15 tips."
      ]
    },
    {
      "cell_type": "markdown",
      "metadata": {
        "button": false,
        "deletable": true,
        "new_sheet": false,
        "run_control": {
          "read_only": false
        },
        "id": "uJnlEo-k4in3",
        "colab_type": "text"
      },
      "source": [
        "   "
      ]
    },
    {
      "cell_type": "markdown",
      "metadata": {
        "button": false,
        "deletable": true,
        "new_sheet": false,
        "run_control": {
          "read_only": false
        },
        "id": "_xOKXZP_4in3",
        "colab_type": "text"
      },
      "source": [
        "<a id=\"item3\"></a>"
      ]
    },
    {
      "cell_type": "markdown",
      "metadata": {
        "button": false,
        "deletable": true,
        "new_sheet": false,
        "run_control": {
          "read_only": false
        },
        "id": "RNoXMydj4in4",
        "colab_type": "text"
      },
      "source": [
        "## 3. Search a Foursquare User\n",
        "> `https://api.foursquare.com/v2/users/`**USER_ID**`?client_id=`**CLIENT_ID**`&client_secret=`**CLIENT_SECRET**`&v=`**VERSION**"
      ]
    },
    {
      "cell_type": "code",
      "metadata": {
        "id": "WMClza_5LcuX",
        "colab_type": "code",
        "colab": {}
      },
      "source": [
        ""
      ],
      "execution_count": null,
      "outputs": []
    },
    {
      "cell_type": "markdown",
      "metadata": {
        "button": false,
        "deletable": true,
        "new_sheet": false,
        "run_control": {
          "read_only": false
        },
        "id": "fE5f4N3-4in4",
        "colab_type": "text"
      },
      "source": [
        "### Define URL, send GET request and display features associated with user"
      ]
    },
    {
      "cell_type": "code",
      "metadata": {
        "button": false,
        "deletable": true,
        "new_sheet": false,
        "run_control": {
          "read_only": false
        },
        "id": "3ybX4A5t4in5",
        "colab_type": "code",
        "colab": {
          "base_uri": "https://localhost:8080/",
          "height": 104
        },
        "outputId": "265bdffc-6e14-4e73-d661-293b89cf5f68"
      },
      "source": [
        "user_id = '484542633' # user ID with most agree counts and complete profile\n",
        "\n",
        "url = 'https://api.foursquare.com/v2/users/{}?client_id={}&client_secret={}&v={}'.format(user_id, CLIENT_ID, CLIENT_SECRET, VERSION) # define URL\n",
        "\n",
        "# send GET request\n",
        "results = requests.get(url).json()\n",
        "#user_data = results['response']['user']\n",
        "\n",
        "# display features associated with user\n",
        "#user_data.keys()\n",
        "results"
      ],
      "execution_count": 33,
      "outputs": [
        {
          "output_type": "execute_result",
          "data": {
            "text/plain": [
              "{'meta': {'code': 401,\n",
              "  'errorDetail': 'Missing oauth_token. See https://developer.foursquare.com/docs/api/configuration/authentication for details.',\n",
              "  'errorType': 'invalid_auth',\n",
              "  'requestId': '5f056b47ee3ea7508e0cbef5'},\n",
              " 'response': {}}"
            ]
          },
          "metadata": {
            "tags": []
          },
          "execution_count": 33
        }
      ]
    },
    {
      "cell_type": "code",
      "metadata": {
        "button": false,
        "deletable": true,
        "new_sheet": false,
        "run_control": {
          "read_only": false
        },
        "id": "UCx4Qbdq4in6",
        "colab_type": "code",
        "colab": {
          "base_uri": "https://localhost:8080/",
          "height": 201
        },
        "outputId": "676fcd8a-ab5f-4488-b965-9b8e7640f984"
      },
      "source": [
        "print('First Name: ' + user_data['firstName'])\n",
        "print('Last Name: ' + user_data['lastName'])\n",
        "print('Home City: ' + user_data['homeCity'])"
      ],
      "execution_count": 27,
      "outputs": [
        {
          "output_type": "error",
          "ename": "NameError",
          "evalue": "ignored",
          "traceback": [
            "\u001b[0;31m---------------------------------------------------------------------------\u001b[0m",
            "\u001b[0;31mNameError\u001b[0m                                 Traceback (most recent call last)",
            "\u001b[0;32m<ipython-input-27-6c3d173b902c>\u001b[0m in \u001b[0;36m<module>\u001b[0;34m()\u001b[0m\n\u001b[0;32m----> 1\u001b[0;31m \u001b[0mprint\u001b[0m\u001b[0;34m(\u001b[0m\u001b[0;34m'First Name: '\u001b[0m \u001b[0;34m+\u001b[0m \u001b[0muser_data\u001b[0m\u001b[0;34m[\u001b[0m\u001b[0;34m'firstName'\u001b[0m\u001b[0;34m]\u001b[0m\u001b[0;34m)\u001b[0m\u001b[0;34m\u001b[0m\u001b[0;34m\u001b[0m\u001b[0m\n\u001b[0m\u001b[1;32m      2\u001b[0m \u001b[0mprint\u001b[0m\u001b[0;34m(\u001b[0m\u001b[0;34m'Last Name: '\u001b[0m \u001b[0;34m+\u001b[0m \u001b[0muser_data\u001b[0m\u001b[0;34m[\u001b[0m\u001b[0;34m'lastName'\u001b[0m\u001b[0;34m]\u001b[0m\u001b[0;34m)\u001b[0m\u001b[0;34m\u001b[0m\u001b[0;34m\u001b[0m\u001b[0m\n\u001b[1;32m      3\u001b[0m \u001b[0mprint\u001b[0m\u001b[0;34m(\u001b[0m\u001b[0;34m'Home City: '\u001b[0m \u001b[0;34m+\u001b[0m \u001b[0muser_data\u001b[0m\u001b[0;34m[\u001b[0m\u001b[0;34m'homeCity'\u001b[0m\u001b[0;34m]\u001b[0m\u001b[0;34m)\u001b[0m\u001b[0;34m\u001b[0m\u001b[0;34m\u001b[0m\u001b[0m\n",
            "\u001b[0;31mNameError\u001b[0m: name 'user_data' is not defined"
          ]
        }
      ]
    },
    {
      "cell_type": "markdown",
      "metadata": {
        "button": false,
        "deletable": true,
        "new_sheet": false,
        "run_control": {
          "read_only": false
        },
        "id": "ONB6IkGW4in8",
        "colab_type": "text"
      },
      "source": [
        "#### How many tips has this user submitted?"
      ]
    },
    {
      "cell_type": "code",
      "metadata": {
        "button": false,
        "deletable": true,
        "new_sheet": false,
        "run_control": {
          "read_only": false
        },
        "id": "Yo-98QWe4in8",
        "colab_type": "code",
        "colab": {}
      },
      "source": [
        "user_data['tips']"
      ],
      "execution_count": null,
      "outputs": []
    },
    {
      "cell_type": "markdown",
      "metadata": {
        "button": false,
        "deletable": true,
        "new_sheet": false,
        "run_control": {
          "read_only": false
        },
        "id": "M_KtR3rl4in-",
        "colab_type": "text"
      },
      "source": [
        "Wow! So it turns out that Nick is a very active Foursquare user, with more than 250 tips."
      ]
    },
    {
      "cell_type": "markdown",
      "metadata": {
        "button": false,
        "deletable": true,
        "new_sheet": false,
        "run_control": {
          "read_only": false
        },
        "id": "Whiaa3cK4in-",
        "colab_type": "text"
      },
      "source": [
        "### Get User's tips"
      ]
    },
    {
      "cell_type": "code",
      "metadata": {
        "button": false,
        "deletable": true,
        "new_sheet": false,
        "run_control": {
          "read_only": false
        },
        "scrolled": false,
        "id": "btfWkqX54in-",
        "colab_type": "code",
        "colab": {
          "base_uri": "https://localhost:8080/",
          "height": 640
        },
        "outputId": "8a315f95-1fc8-47de-b2b1-62550686d164"
      },
      "source": [
        "# define tips URL\n",
        "url = 'https://api.foursquare.com/v2/users/{}/tips?client_id={}&client_secret={}&v={}&limit={}'.format(user_id, CLIENT_ID, CLIENT_SECRET, VERSION, limit)\n",
        "\n",
        "# send GET request and get user's tips\n",
        "results = requests.get(url).json()\n",
        "tips = results['response']['tips']['items']\n",
        "\n",
        "# format column width\n",
        "pd.set_option('display.max_colwidth', -1)\n",
        "\n",
        "tips_df = json_normalize(tips)\n",
        "\n",
        "# filter columns\n",
        "filtered_columns = ['text', 'agreeCount', 'disagreeCount', 'id']\n",
        "tips_filtered = tips_df.loc[:, filtered_columns]\n",
        "\n",
        "# display user's tips\n",
        "tips_filtered"
      ],
      "execution_count": 32,
      "outputs": [
        {
          "output_type": "stream",
          "text": [
            "/usr/local/lib/python3.6/dist-packages/ipykernel_launcher.py:9: FutureWarning: Passing a negative integer is deprecated in version 1.0 and will not be supported in future version. Instead, use None to not limit the column width.\n",
            "  if __name__ == '__main__':\n",
            "/usr/local/lib/python3.6/dist-packages/ipykernel_launcher.py:11: FutureWarning: pandas.io.json.json_normalize is deprecated, use pandas.json_normalize instead\n",
            "  # This is added back by InteractiveShellApp.init_path()\n"
          ],
          "name": "stderr"
        },
        {
          "output_type": "execute_result",
          "data": {
            "text/html": [
              "<div>\n",
              "<style scoped>\n",
              "    .dataframe tbody tr th:only-of-type {\n",
              "        vertical-align: middle;\n",
              "    }\n",
              "\n",
              "    .dataframe tbody tr th {\n",
              "        vertical-align: top;\n",
              "    }\n",
              "\n",
              "    .dataframe thead th {\n",
              "        text-align: right;\n",
              "    }\n",
              "</style>\n",
              "<table border=\"1\" class=\"dataframe\">\n",
              "  <thead>\n",
              "    <tr style=\"text-align: right;\">\n",
              "      <th></th>\n",
              "      <th>text</th>\n",
              "      <th>agreeCount</th>\n",
              "      <th>disagreeCount</th>\n",
              "      <th>id</th>\n",
              "    </tr>\n",
              "  </thead>\n",
              "  <tbody>\n",
              "    <tr>\n",
              "      <th>0</th>\n",
              "      <td>They serve coffee!!!!!!</td>\n",
              "      <td>1</td>\n",
              "      <td>0</td>\n",
              "      <td>5accc98c0313204c9d7ec157</td>\n",
              "    </tr>\n",
              "    <tr>\n",
              "      <th>1</th>\n",
              "      <td>Quick, cheap lunch that tastes good! Way shorter line than Chipotle, too.</td>\n",
              "      <td>2</td>\n",
              "      <td>0</td>\n",
              "      <td>5acbec70a0215b732e264fe8</td>\n",
              "    </tr>\n",
              "    <tr>\n",
              "      <th>2</th>\n",
              "      <td>You’re not a real New Yorker until you’ve shame-ordered Insomnia Cookies for delivery at 3am</td>\n",
              "      <td>1</td>\n",
              "      <td>0</td>\n",
              "      <td>5acbbd4eb1538e45373b07f5</td>\n",
              "    </tr>\n",
              "    <tr>\n",
              "      <th>3</th>\n",
              "      <td>Good for you yet still tasty! Clean green protein is my go-to after I hit the gym 💪</td>\n",
              "      <td>2</td>\n",
              "      <td>0</td>\n",
              "      <td>5acbbcda01235808d5d6dc75</td>\n",
              "    </tr>\n",
              "    <tr>\n",
              "      <th>4</th>\n",
              "      <td>Burger game strong 💪</td>\n",
              "      <td>1</td>\n",
              "      <td>0</td>\n",
              "      <td>5ab575fb6bdee65f759da8c1</td>\n",
              "    </tr>\n",
              "    <tr>\n",
              "      <th>5</th>\n",
              "      <td>Great burgers &amp; fries! Also, this place is exactly what it’s like when you go to a bar in the Southwest. Source: I’m from Arizona.</td>\n",
              "      <td>2</td>\n",
              "      <td>0</td>\n",
              "      <td>5ab5575d73fe2516ad8f363b</td>\n",
              "    </tr>\n",
              "    <tr>\n",
              "      <th>6</th>\n",
              "      <td>Açaí bowl + peanut butter + whey protein = 💪💪💪</td>\n",
              "      <td>1</td>\n",
              "      <td>0</td>\n",
              "      <td>5ab42db53c858d64af2688a4</td>\n",
              "    </tr>\n",
              "    <tr>\n",
              "      <th>7</th>\n",
              "      <td>Highly underrated and way less crowded than Central Park!</td>\n",
              "      <td>3</td>\n",
              "      <td>0</td>\n",
              "      <td>5ab42c396f706a29f53ad1a8</td>\n",
              "    </tr>\n",
              "    <tr>\n",
              "      <th>8</th>\n",
              "      <td>Way easier to navigate than the Met proper, plus the Met Breuer focuses on modern art. If I only have a limited amount of time to spend in a museum, I would rather go here than anywhere else!</td>\n",
              "      <td>6</td>\n",
              "      <td>0</td>\n",
              "      <td>5ab42b987dc9e17930e5ff5b</td>\n",
              "    </tr>\n",
              "    <tr>\n",
              "      <th>9</th>\n",
              "      <td>Get the açaí bowl with peanut butter after your work out and thank me later 👌</td>\n",
              "      <td>1</td>\n",
              "      <td>0</td>\n",
              "      <td>5ab42aca2a7ab6333652b266</td>\n",
              "    </tr>\n",
              "    <tr>\n",
              "      <th>10</th>\n",
              "      <td>When you want a burger, this should be the first thing that comes to mind. A+!</td>\n",
              "      <td>1</td>\n",
              "      <td>0</td>\n",
              "      <td>5ab42a28da5e5617d18e3a6a</td>\n",
              "    </tr>\n",
              "    <tr>\n",
              "      <th>11</th>\n",
              "      <td>Way less crowded than Central Park! People who live in the neighborhood rave about Carl Schurz Park.</td>\n",
              "      <td>3</td>\n",
              "      <td>0</td>\n",
              "      <td>5ab429db1ffe971b060083f5</td>\n",
              "    </tr>\n",
              "    <tr>\n",
              "      <th>12</th>\n",
              "      <td>The best Mexican food in the Murray Hill / Kips Bay area!</td>\n",
              "      <td>1</td>\n",
              "      <td>0</td>\n",
              "      <td>5ab3f53f8496ca57542d5549</td>\n",
              "    </tr>\n",
              "    <tr>\n",
              "      <th>13</th>\n",
              "      <td>Best coffee shop in the neighborhood!</td>\n",
              "      <td>1</td>\n",
              "      <td>0</td>\n",
              "      <td>5ab3f428da5e5617d17d1475</td>\n",
              "    </tr>\n",
              "    <tr>\n",
              "      <th>14</th>\n",
              "      <td>When there’s nice weather, the rooftop at Tonic East is the best place to watch the game. Perfect for March Madness &amp; NBA finals!</td>\n",
              "      <td>2</td>\n",
              "      <td>0</td>\n",
              "      <td>5ab3f3fedd70c572de886c9d</td>\n",
              "    </tr>\n",
              "  </tbody>\n",
              "</table>\n",
              "</div>"
            ],
            "text/plain": [
              "                                                                                                                                                                                               text  ...                        id\n",
              "0   They serve coffee!!!!!!                                                                                                                                                                          ...  5accc98c0313204c9d7ec157\n",
              "1   Quick, cheap lunch that tastes good! Way shorter line than Chipotle, too.                                                                                                                        ...  5acbec70a0215b732e264fe8\n",
              "2   You’re not a real New Yorker until you’ve shame-ordered Insomnia Cookies for delivery at 3am                                                                                                     ...  5acbbd4eb1538e45373b07f5\n",
              "3   Good for you yet still tasty! Clean green protein is my go-to after I hit the gym 💪                                                                                                              ...  5acbbcda01235808d5d6dc75\n",
              "4   Burger game strong 💪                                                                                                                                                                             ...  5ab575fb6bdee65f759da8c1\n",
              "5   Great burgers & fries! Also, this place is exactly what it’s like when you go to a bar in the Southwest. Source: I’m from Arizona.                                                               ...  5ab5575d73fe2516ad8f363b\n",
              "6   Açaí bowl + peanut butter + whey protein = 💪💪💪                                                                                                                                                   ...  5ab42db53c858d64af2688a4\n",
              "7   Highly underrated and way less crowded than Central Park!                                                                                                                                        ...  5ab42c396f706a29f53ad1a8\n",
              "8   Way easier to navigate than the Met proper, plus the Met Breuer focuses on modern art. If I only have a limited amount of time to spend in a museum, I would rather go here than anywhere else!  ...  5ab42b987dc9e17930e5ff5b\n",
              "9   Get the açaí bowl with peanut butter after your work out and thank me later 👌                                                                                                                    ...  5ab42aca2a7ab6333652b266\n",
              "10  When you want a burger, this should be the first thing that comes to mind. A+!                                                                                                                   ...  5ab42a28da5e5617d18e3a6a\n",
              "11  Way less crowded than Central Park! People who live in the neighborhood rave about Carl Schurz Park.                                                                                             ...  5ab429db1ffe971b060083f5\n",
              "12  The best Mexican food in the Murray Hill / Kips Bay area!                                                                                                                                        ...  5ab3f53f8496ca57542d5549\n",
              "13  Best coffee shop in the neighborhood!                                                                                                                                                            ...  5ab3f428da5e5617d17d1475\n",
              "14  When there’s nice weather, the rooftop at Tonic East is the best place to watch the game. Perfect for March Madness & NBA finals!                                                                ...  5ab3f3fedd70c572de886c9d\n",
              "\n",
              "[15 rows x 4 columns]"
            ]
          },
          "metadata": {
            "tags": []
          },
          "execution_count": 32
        }
      ]
    },
    {
      "cell_type": "markdown",
      "metadata": {
        "button": false,
        "deletable": true,
        "new_sheet": false,
        "run_control": {
          "read_only": false
        },
        "id": "SV5lG5zJ4ioA",
        "colab_type": "text"
      },
      "source": [
        "#### Let's get the venue for the tip with the greatest number of agree counts"
      ]
    },
    {
      "cell_type": "code",
      "metadata": {
        "button": false,
        "deletable": true,
        "new_sheet": false,
        "run_control": {
          "read_only": false
        },
        "id": "efWh0PTx4ioB",
        "colab_type": "code",
        "colab": {
          "base_uri": "https://localhost:8080/",
          "height": 72
        },
        "outputId": "4cc5ec11-9a80-448a-ee94-3104558d79a2"
      },
      "source": [
        "tip_id = '5ab5575d73fe2516ad8f363b' # tip id\n",
        "\n",
        "# define URL\n",
        "url = 'http://api.foursquare.com/v2/tips/{}?client_id={}&client_secret={}&v={}'.format(tip_id, CLIENT_ID, CLIENT_SECRET, VERSION)\n",
        "\n",
        "# send GET Request and examine results\n",
        "result = requests.get(url).json()\n",
        "print(result['response']['tip']['venue']['name'])\n",
        "print(result['response']['tip']['venue']['location'])"
      ],
      "execution_count": 33,
      "outputs": [
        {
          "output_type": "stream",
          "text": [
            "Cowgirl\n",
            "{'address': '519 Hudson St', 'crossStreet': 'at W 10th St', 'lat': 40.73373338282062, 'lng': -74.0062998849649, 'labeledLatLngs': [{'label': 'display', 'lat': 40.73373338282062, 'lng': -74.0062998849649}], 'postalCode': '10014', 'cc': 'US', 'city': 'New York', 'state': 'NY', 'country': 'United States', 'formattedAddress': ['519 Hudson St (at W 10th St)', 'New York, NY 10014', 'United States']}\n"
          ],
          "name": "stdout"
        }
      ]
    },
    {
      "cell_type": "markdown",
      "metadata": {
        "button": false,
        "deletable": true,
        "new_sheet": false,
        "run_control": {
          "read_only": false
        },
        "id": "RC1qDYfs4ioD",
        "colab_type": "text"
      },
      "source": [
        "### Get User's friends"
      ]
    },
    {
      "cell_type": "code",
      "metadata": {
        "button": false,
        "deletable": true,
        "new_sheet": false,
        "run_control": {
          "read_only": false
        },
        "scrolled": false,
        "id": "QzqsgZum4ioD",
        "colab_type": "code",
        "colab": {
          "base_uri": "https://localhost:8080/",
          "height": 184
        },
        "outputId": "4166f742-c6a9-470d-ddb9-cbc386dd7223"
      },
      "source": [
        "user_friends = json_normalize(user_data['friends']['groups'][0]['items'])\n",
        "user_friends"
      ],
      "execution_count": 34,
      "outputs": [
        {
          "output_type": "error",
          "ename": "KeyError",
          "evalue": "ignored",
          "traceback": [
            "\u001b[0;31m---------------------------------------------------------------------------\u001b[0m",
            "\u001b[0;31mKeyError\u001b[0m                                  Traceback (most recent call last)",
            "\u001b[0;32m<ipython-input-34-bcc27b1bf8b4>\u001b[0m in \u001b[0;36m<module>\u001b[0;34m()\u001b[0m\n\u001b[0;32m----> 1\u001b[0;31m \u001b[0muser_friends\u001b[0m \u001b[0;34m=\u001b[0m \u001b[0mjson_normalize\u001b[0m\u001b[0;34m(\u001b[0m\u001b[0muser_data\u001b[0m\u001b[0;34m[\u001b[0m\u001b[0;34m'friends'\u001b[0m\u001b[0;34m]\u001b[0m\u001b[0;34m[\u001b[0m\u001b[0;34m'groups'\u001b[0m\u001b[0;34m]\u001b[0m\u001b[0;34m[\u001b[0m\u001b[0;36m0\u001b[0m\u001b[0;34m]\u001b[0m\u001b[0;34m[\u001b[0m\u001b[0;34m'items'\u001b[0m\u001b[0;34m]\u001b[0m\u001b[0;34m)\u001b[0m\u001b[0;34m\u001b[0m\u001b[0;34m\u001b[0m\u001b[0m\n\u001b[0m\u001b[1;32m      2\u001b[0m \u001b[0muser_friends\u001b[0m\u001b[0;34m\u001b[0m\u001b[0;34m\u001b[0m\u001b[0m\n",
            "\u001b[0;31mKeyError\u001b[0m: 'friends'"
          ]
        }
      ]
    },
    {
      "cell_type": "markdown",
      "metadata": {
        "button": false,
        "deletable": true,
        "new_sheet": false,
        "run_control": {
          "read_only": false
        },
        "id": "YUPO46Na4ioF",
        "colab_type": "text"
      },
      "source": [
        "Interesting. Despite being very active, it turns out that Nick does not have any friends on Foursquare. This might definitely change in the future."
      ]
    },
    {
      "cell_type": "markdown",
      "metadata": {
        "button": false,
        "deletable": true,
        "new_sheet": false,
        "run_control": {
          "read_only": false
        },
        "id": "uO5k_bK34ioG",
        "colab_type": "text"
      },
      "source": [
        "### Retrieve the User's Profile Image"
      ]
    },
    {
      "cell_type": "code",
      "metadata": {
        "button": false,
        "deletable": true,
        "new_sheet": false,
        "run_control": {
          "read_only": false
        },
        "scrolled": true,
        "id": "YXIPBxJ44ioG",
        "colab_type": "code",
        "colab": {}
      },
      "source": [
        "user_data"
      ],
      "execution_count": null,
      "outputs": []
    },
    {
      "cell_type": "code",
      "metadata": {
        "button": false,
        "deletable": true,
        "new_sheet": false,
        "run_control": {
          "read_only": false
        },
        "id": "fqsKV9wY4ioI",
        "colab_type": "code",
        "colab": {}
      },
      "source": [
        "# 1. grab prefix of photo\n",
        "# 2. grab suffix of photo\n",
        "# 3. concatenate them using the image size  \n",
        "Image(url='https://igx.4sqi.net/img/user/300x300/484542633_mK2Yum7T_7Tn9fWpndidJsmw2Hof_6T5vJBKCHPLMK5OL-U5ZiJGj51iwBstcpDLYa3Zvhvis.jpg')"
      ],
      "execution_count": null,
      "outputs": []
    },
    {
      "cell_type": "markdown",
      "metadata": {
        "button": false,
        "deletable": true,
        "new_sheet": false,
        "run_control": {
          "read_only": false
        },
        "id": "LnHdd5of4ioJ",
        "colab_type": "text"
      },
      "source": [
        "  "
      ]
    },
    {
      "cell_type": "markdown",
      "metadata": {
        "button": false,
        "deletable": true,
        "new_sheet": false,
        "run_control": {
          "read_only": false
        },
        "id": "yHW2irZ24ioJ",
        "colab_type": "text"
      },
      "source": [
        "<a id=\"item4\"></a>"
      ]
    },
    {
      "cell_type": "markdown",
      "metadata": {
        "button": false,
        "deletable": true,
        "new_sheet": false,
        "run_control": {
          "read_only": false
        },
        "id": "W6_JQNfb4ioK",
        "colab_type": "text"
      },
      "source": [
        "## 4. Explore a location\n",
        "> `https://api.foursquare.com/v2/venues/`**explore**`?client_id=`**CLIENT_ID**`&client_secret=`**CLIENT_SECRET**`&ll=`**LATITUDE**`,`**LONGITUDE**`&v=`**VERSION**`&limit=`**LIMIT**"
      ]
    },
    {
      "cell_type": "markdown",
      "metadata": {
        "button": false,
        "deletable": true,
        "new_sheet": false,
        "run_control": {
          "read_only": false
        },
        "id": "ykwIDZrO4ioK",
        "colab_type": "text"
      },
      "source": [
        "#### So, you just finished your gourmet dish at Ecco, and are just curious about the popular spots around the restaurant. In order to explore the area, let's start by getting the latitude and longitude values of Ecco Restaurant."
      ]
    },
    {
      "cell_type": "code",
      "metadata": {
        "button": false,
        "deletable": true,
        "new_sheet": false,
        "run_control": {
          "read_only": false
        },
        "id": "2WmAuCXa4ioL",
        "colab_type": "code",
        "colab": {}
      },
      "source": [
        "latitude = 40.715337\n",
        "longitude = -74.008848"
      ],
      "execution_count": 35,
      "outputs": []
    },
    {
      "cell_type": "markdown",
      "metadata": {
        "button": false,
        "deletable": true,
        "new_sheet": false,
        "run_control": {
          "read_only": false
        },
        "id": "3EMxWS0B4ioN",
        "colab_type": "text"
      },
      "source": [
        "#### Define URL"
      ]
    },
    {
      "cell_type": "code",
      "metadata": {
        "button": false,
        "deletable": true,
        "new_sheet": false,
        "run_control": {
          "read_only": false
        },
        "id": "mUOQ00SW4ioN",
        "colab_type": "code",
        "colab": {
          "base_uri": "https://localhost:8080/",
          "height": 52
        },
        "outputId": "76a10d93-8116-4796-c465-4e728836575f"
      },
      "source": [
        "url = 'https://api.foursquare.com/v2/venues/explore?client_id={}&client_secret={}&ll={},{}&v={}&radius={}&limit={}'.format(CLIENT_ID, CLIENT_SECRET, latitude, longitude, VERSION, radius, LIMIT)\n",
        "url"
      ],
      "execution_count": 36,
      "outputs": [
        {
          "output_type": "execute_result",
          "data": {
            "application/vnd.google.colaboratory.intrinsic": {
              "type": "string"
            },
            "text/plain": [
              "'https://api.foursquare.com/v2/venues/explore?client_id=UGZ02U5FOWXHIWQAWWVMJ25DPLLSQ10WXESWA32G53FM1AGS&client_secret=VWINXOWSF0U2JHTFYFDQ1XQAGYK1LPWL1K1GM0FFARXFDWUI&ll=40.715337,-74.008848&v=20200707&radius=500&limit=30'"
            ]
          },
          "metadata": {
            "tags": []
          },
          "execution_count": 36
        }
      ]
    },
    {
      "cell_type": "markdown",
      "metadata": {
        "button": false,
        "deletable": true,
        "new_sheet": false,
        "run_control": {
          "read_only": false
        },
        "id": "TGUlkPm84ioP",
        "colab_type": "text"
      },
      "source": [
        "#### Send GET request and examine results"
      ]
    },
    {
      "cell_type": "code",
      "metadata": {
        "button": false,
        "deletable": true,
        "new_sheet": false,
        "run_control": {
          "read_only": false
        },
        "id": "o0VLC75Z4ioP",
        "colab_type": "code",
        "colab": {}
      },
      "source": [
        "import requests"
      ],
      "execution_count": 37,
      "outputs": []
    },
    {
      "cell_type": "code",
      "metadata": {
        "button": false,
        "deletable": true,
        "new_sheet": false,
        "run_control": {
          "read_only": false
        },
        "id": "vLVSozmJ4ioT",
        "colab_type": "code",
        "colab": {
          "base_uri": "https://localhost:8080/",
          "height": 34
        },
        "outputId": "273eae05-ad94-44e5-ad66-130f45962461"
      },
      "source": [
        "results = requests.get(url).json()\n",
        "'There are {} around Ecco restaurant.'.format(len(results['response']['groups'][0]['items']))"
      ],
      "execution_count": 38,
      "outputs": [
        {
          "output_type": "execute_result",
          "data": {
            "application/vnd.google.colaboratory.intrinsic": {
              "type": "string"
            },
            "text/plain": [
              "'There are 30 around Ecco restaurant.'"
            ]
          },
          "metadata": {
            "tags": []
          },
          "execution_count": 38
        }
      ]
    },
    {
      "cell_type": "markdown",
      "metadata": {
        "button": false,
        "deletable": true,
        "new_sheet": false,
        "run_control": {
          "read_only": false
        },
        "id": "LjIGWTpX4ioW",
        "colab_type": "text"
      },
      "source": [
        "#### Get relevant part of JSON"
      ]
    },
    {
      "cell_type": "code",
      "metadata": {
        "button": false,
        "deletable": true,
        "new_sheet": false,
        "run_control": {
          "read_only": false
        },
        "id": "jWocqhtP4ioW",
        "colab_type": "code",
        "colab": {
          "base_uri": "https://localhost:8080/",
          "height": 536
        },
        "outputId": "4fb43422-cff3-4fb5-c93f-2024cc67f8e9"
      },
      "source": [
        "items = results['response']['groups'][0]['items']\n",
        "items[0]"
      ],
      "execution_count": 39,
      "outputs": [
        {
          "output_type": "execute_result",
          "data": {
            "text/plain": [
              "{'reasons': {'count': 0,\n",
              "  'items': [{'reasonName': 'globalInteractionReason',\n",
              "    'summary': 'This spot is popular',\n",
              "    'type': 'general'}]},\n",
              " 'referralId': 'e-0-5d5f24ec09484500079aee00-0',\n",
              " 'venue': {'categories': [{'icon': {'prefix': 'https://ss3.4sqi.net/img/categories_v2/food/taco_',\n",
              "     'suffix': '.png'},\n",
              "    'id': '4bf58dd8d48988d151941735',\n",
              "    'name': 'Taco Place',\n",
              "    'pluralName': 'Taco Places',\n",
              "    'primary': True,\n",
              "    'shortName': 'Tacos'}],\n",
              "  'id': '5d5f24ec09484500079aee00',\n",
              "  'location': {'address': '136 Church St',\n",
              "   'cc': 'US',\n",
              "   'city': 'New York',\n",
              "   'country': 'United States',\n",
              "   'distance': 119,\n",
              "   'formattedAddress': ['136 Church St',\n",
              "    'New York, NY 10007',\n",
              "    'United States'],\n",
              "   'labeledLatLngs': [{'label': 'display',\n",
              "     'lat': 40.714267,\n",
              "     'lng': -74.008756}],\n",
              "   'lat': 40.714267,\n",
              "   'lng': -74.008756,\n",
              "   'postalCode': '10007',\n",
              "   'state': 'NY'},\n",
              "  'name': 'Los Tacos No. 1',\n",
              "  'photos': {'count': 0, 'groups': []}}}"
            ]
          },
          "metadata": {
            "tags": []
          },
          "execution_count": 39
        }
      ]
    },
    {
      "cell_type": "markdown",
      "metadata": {
        "button": false,
        "deletable": true,
        "new_sheet": false,
        "run_control": {
          "read_only": false
        },
        "id": "0lIiX6IH4ioY",
        "colab_type": "text"
      },
      "source": [
        "#### Process JSON and convert it to a clean dataframe"
      ]
    },
    {
      "cell_type": "code",
      "metadata": {
        "button": false,
        "deletable": true,
        "new_sheet": false,
        "run_control": {
          "read_only": false
        },
        "scrolled": false,
        "id": "3CVdJ4Cu4ioZ",
        "colab_type": "code",
        "colab": {
          "base_uri": "https://localhost:8080/",
          "height": 1000
        },
        "outputId": "942e8ad7-4778-498a-f646-2223bc184608"
      },
      "source": [
        "dataframe = json_normalize(items) # flatten JSON\n",
        "\n",
        "# filter columns\n",
        "filtered_columns = ['venue.name', 'venue.categories'] + [col for col in dataframe.columns if col.startswith('venue.location.')] + ['venue.id']\n",
        "dataframe_filtered = dataframe.loc[:, filtered_columns]\n",
        "\n",
        "# filter the category for each row\n",
        "dataframe_filtered['venue.categories'] = dataframe_filtered.apply(get_category_type, axis=1)\n",
        "\n",
        "# clean columns\n",
        "dataframe_filtered.columns = [col.split('.')[-1] for col in dataframe_filtered.columns]\n",
        "\n",
        "dataframe_filtered.head(10)"
      ],
      "execution_count": 40,
      "outputs": [
        {
          "output_type": "stream",
          "text": [
            "/usr/local/lib/python3.6/dist-packages/ipykernel_launcher.py:1: FutureWarning: pandas.io.json.json_normalize is deprecated, use pandas.json_normalize instead\n",
            "  \"\"\"Entry point for launching an IPython kernel.\n"
          ],
          "name": "stderr"
        },
        {
          "output_type": "execute_result",
          "data": {
            "text/html": [
              "<div>\n",
              "<style scoped>\n",
              "    .dataframe tbody tr th:only-of-type {\n",
              "        vertical-align: middle;\n",
              "    }\n",
              "\n",
              "    .dataframe tbody tr th {\n",
              "        vertical-align: top;\n",
              "    }\n",
              "\n",
              "    .dataframe thead th {\n",
              "        text-align: right;\n",
              "    }\n",
              "</style>\n",
              "<table border=\"1\" class=\"dataframe\">\n",
              "  <thead>\n",
              "    <tr style=\"text-align: right;\">\n",
              "      <th></th>\n",
              "      <th>name</th>\n",
              "      <th>categories</th>\n",
              "      <th>address</th>\n",
              "      <th>lat</th>\n",
              "      <th>lng</th>\n",
              "      <th>labeledLatLngs</th>\n",
              "      <th>distance</th>\n",
              "      <th>postalCode</th>\n",
              "      <th>cc</th>\n",
              "      <th>city</th>\n",
              "      <th>state</th>\n",
              "      <th>country</th>\n",
              "      <th>formattedAddress</th>\n",
              "      <th>crossStreet</th>\n",
              "      <th>neighborhood</th>\n",
              "      <th>id</th>\n",
              "    </tr>\n",
              "  </thead>\n",
              "  <tbody>\n",
              "    <tr>\n",
              "      <th>0</th>\n",
              "      <td>Los Tacos No. 1</td>\n",
              "      <td>Taco Place</td>\n",
              "      <td>136 Church St</td>\n",
              "      <td>40.714267</td>\n",
              "      <td>-74.008756</td>\n",
              "      <td>[{'label': 'display', 'lat': 40.714267, 'lng': -74.008756}]</td>\n",
              "      <td>119</td>\n",
              "      <td>10007</td>\n",
              "      <td>US</td>\n",
              "      <td>New York</td>\n",
              "      <td>NY</td>\n",
              "      <td>United States</td>\n",
              "      <td>[136 Church St, New York, NY 10007, United States]</td>\n",
              "      <td>NaN</td>\n",
              "      <td>NaN</td>\n",
              "      <td>5d5f24ec09484500079aee00</td>\n",
              "    </tr>\n",
              "    <tr>\n",
              "      <th>1</th>\n",
              "      <td>Korin</td>\n",
              "      <td>Furniture / Home Store</td>\n",
              "      <td>57 Warren St</td>\n",
              "      <td>40.714824</td>\n",
              "      <td>-74.009404</td>\n",
              "      <td>[{'label': 'display', 'lat': 40.71482437714839, 'lng': -74.00940425461492}, {'label': 'entrance', 'lat': 40.714727, 'lng': -74.009399}]</td>\n",
              "      <td>73</td>\n",
              "      <td>10007</td>\n",
              "      <td>US</td>\n",
              "      <td>New York</td>\n",
              "      <td>NY</td>\n",
              "      <td>United States</td>\n",
              "      <td>[57 Warren St (Church St), New York, NY 10007, United States]</td>\n",
              "      <td>Church St</td>\n",
              "      <td>Tribeca</td>\n",
              "      <td>4af5d65ff964a52091fd21e3</td>\n",
              "    </tr>\n",
              "    <tr>\n",
              "      <th>2</th>\n",
              "      <td>Juice Press</td>\n",
              "      <td>Vegetarian / Vegan Restaurant</td>\n",
              "      <td>83 Murray St</td>\n",
              "      <td>40.714788</td>\n",
              "      <td>-74.011132</td>\n",
              "      <td>[{'label': 'display', 'lat': 40.71478769908051, 'lng': -74.0111317502157}]</td>\n",
              "      <td>202</td>\n",
              "      <td>10007</td>\n",
              "      <td>US</td>\n",
              "      <td>New York</td>\n",
              "      <td>NY</td>\n",
              "      <td>United States</td>\n",
              "      <td>[83 Murray St (btwn Greenwich St &amp; W Broadway), New York, NY 10007, United States]</td>\n",
              "      <td>btwn Greenwich St &amp; W Broadway</td>\n",
              "      <td>NaN</td>\n",
              "      <td>54148bc6498ea7bb8c05b70a</td>\n",
              "    </tr>\n",
              "    <tr>\n",
              "      <th>3</th>\n",
              "      <td>Exceed Physical Culture</td>\n",
              "      <td>Gym / Fitness Center</td>\n",
              "      <td>97 Reade St</td>\n",
              "      <td>40.715629</td>\n",
              "      <td>-74.007992</td>\n",
              "      <td>[{'label': 'display', 'lat': 40.7156286200256, 'lng': -74.0079922583853}, {'label': 'entrance', 'lat': 40.715589, 'lng': -74.008105}]</td>\n",
              "      <td>79</td>\n",
              "      <td>10013</td>\n",
              "      <td>US</td>\n",
              "      <td>New York</td>\n",
              "      <td>NY</td>\n",
              "      <td>United States</td>\n",
              "      <td>[97 Reade St (bet W Broadway &amp; Church St), New York, NY 10013, United States]</td>\n",
              "      <td>bet W Broadway &amp; Church St</td>\n",
              "      <td>Tribeca</td>\n",
              "      <td>53910ac3498e57a5dc0eb160</td>\n",
              "    </tr>\n",
              "    <tr>\n",
              "      <th>4</th>\n",
              "      <td>Takahachi Bakery</td>\n",
              "      <td>Bakery</td>\n",
              "      <td>25 Murray St</td>\n",
              "      <td>40.713653</td>\n",
              "      <td>-74.008804</td>\n",
              "      <td>[{'label': 'display', 'lat': 40.713652845301894, 'lng': -74.0088038953017}, {'label': 'entrance', 'lat': 40.713716, 'lng': -74.008443}]</td>\n",
              "      <td>187</td>\n",
              "      <td>10007</td>\n",
              "      <td>US</td>\n",
              "      <td>New York</td>\n",
              "      <td>NY</td>\n",
              "      <td>United States</td>\n",
              "      <td>[25 Murray St (at Church St), New York, NY 10007, United States]</td>\n",
              "      <td>at Church St</td>\n",
              "      <td>NaN</td>\n",
              "      <td>4c154c9a77cea593c401d260</td>\n",
              "    </tr>\n",
              "    <tr>\n",
              "      <th>5</th>\n",
              "      <td>Takahachi</td>\n",
              "      <td>Sushi Restaurant</td>\n",
              "      <td>145 Duane St</td>\n",
              "      <td>40.716526</td>\n",
              "      <td>-74.008101</td>\n",
              "      <td>[{'label': 'display', 'lat': 40.71652647412374, 'lng': -74.00810108466207}, {'label': 'entrance', 'lat': 40.716508, 'lng': -74.007989}]</td>\n",
              "      <td>146</td>\n",
              "      <td>10013</td>\n",
              "      <td>US</td>\n",
              "      <td>New York</td>\n",
              "      <td>NY</td>\n",
              "      <td>United States</td>\n",
              "      <td>[145 Duane St (btwn W Broadway &amp; Church St), New York, NY 10013, United States]</td>\n",
              "      <td>btwn W Broadway &amp; Church St</td>\n",
              "      <td>NaN</td>\n",
              "      <td>4a8f2f39f964a520471420e3</td>\n",
              "    </tr>\n",
              "    <tr>\n",
              "      <th>6</th>\n",
              "      <td>Chambers Street Wines</td>\n",
              "      <td>Wine Shop</td>\n",
              "      <td>148 Chambers St</td>\n",
              "      <td>40.715773</td>\n",
              "      <td>-74.009718</td>\n",
              "      <td>[{'label': 'display', 'lat': 40.715773063928374, 'lng': -74.00971823312332}, {'label': 'entrance', 'lat': 40.715696, 'lng': -74.00988}]</td>\n",
              "      <td>88</td>\n",
              "      <td>10007</td>\n",
              "      <td>US</td>\n",
              "      <td>New York</td>\n",
              "      <td>NY</td>\n",
              "      <td>United States</td>\n",
              "      <td>[148 Chambers St (btwn West Broadway &amp; Hudson St), New York, NY 10007, United States]</td>\n",
              "      <td>btwn West Broadway &amp; Hudson St</td>\n",
              "      <td>NaN</td>\n",
              "      <td>4adcf23cf964a520cc6221e3</td>\n",
              "    </tr>\n",
              "    <tr>\n",
              "      <th>7</th>\n",
              "      <td>Nish Nūsh</td>\n",
              "      <td>Falafel Restaurant</td>\n",
              "      <td>88 Reade St</td>\n",
              "      <td>40.715537</td>\n",
              "      <td>-74.007725</td>\n",
              "      <td>[{'label': 'display', 'lat': 40.71553710116416, 'lng': -74.00772452925565}, {'label': 'entrance', 'lat': 40.715615, 'lng': -74.00773}]</td>\n",
              "      <td>97</td>\n",
              "      <td>10013</td>\n",
              "      <td>US</td>\n",
              "      <td>New York</td>\n",
              "      <td>NY</td>\n",
              "      <td>United States</td>\n",
              "      <td>[88 Reade St (at Church St), New York, NY 10013, United States]</td>\n",
              "      <td>at Church St</td>\n",
              "      <td>NaN</td>\n",
              "      <td>50ba9119e4b071a4bae6dc10</td>\n",
              "    </tr>\n",
              "    <tr>\n",
              "      <th>8</th>\n",
              "      <td>Restaurant Marc Forgione</td>\n",
              "      <td>New American Restaurant</td>\n",
              "      <td>134 Reade St</td>\n",
              "      <td>40.716380</td>\n",
              "      <td>-74.009629</td>\n",
              "      <td>[{'label': 'display', 'lat': 40.71637984317071, 'lng': -74.00962933453428}]</td>\n",
              "      <td>133</td>\n",
              "      <td>10013</td>\n",
              "      <td>US</td>\n",
              "      <td>New York</td>\n",
              "      <td>NY</td>\n",
              "      <td>United States</td>\n",
              "      <td>[134 Reade St (btwn Hudson and Greenwich St), New York, NY 10013, United States]</td>\n",
              "      <td>btwn Hudson and Greenwich St</td>\n",
              "      <td>NaN</td>\n",
              "      <td>48510cf9f964a520a5501fe3</td>\n",
              "    </tr>\n",
              "    <tr>\n",
              "      <th>9</th>\n",
              "      <td>Whole Foods Market</td>\n",
              "      <td>Grocery Store</td>\n",
              "      <td>270 Greenwich Street</td>\n",
              "      <td>40.715579</td>\n",
              "      <td>-74.011368</td>\n",
              "      <td>[{'label': 'display', 'lat': 40.715579155420606, 'lng': -74.01136823958119}]</td>\n",
              "      <td>214</td>\n",
              "      <td>10007</td>\n",
              "      <td>US</td>\n",
              "      <td>New York</td>\n",
              "      <td>NY</td>\n",
              "      <td>United States</td>\n",
              "      <td>[270 Greenwich Street (at Warren St), New York, NY 10007, United States]</td>\n",
              "      <td>at Warren St</td>\n",
              "      <td>Tribeca</td>\n",
              "      <td>49bc3b0af964a52020541fe3</td>\n",
              "    </tr>\n",
              "  </tbody>\n",
              "</table>\n",
              "</div>"
            ],
            "text/plain": [
              "                       name  ...                        id\n",
              "0  Los Tacos No. 1           ...  5d5f24ec09484500079aee00\n",
              "1  Korin                     ...  4af5d65ff964a52091fd21e3\n",
              "2  Juice Press               ...  54148bc6498ea7bb8c05b70a\n",
              "3  Exceed Physical Culture   ...  53910ac3498e57a5dc0eb160\n",
              "4  Takahachi Bakery          ...  4c154c9a77cea593c401d260\n",
              "5  Takahachi                 ...  4a8f2f39f964a520471420e3\n",
              "6  Chambers Street Wines     ...  4adcf23cf964a520cc6221e3\n",
              "7  Nish Nūsh                 ...  50ba9119e4b071a4bae6dc10\n",
              "8  Restaurant Marc Forgione  ...  48510cf9f964a520a5501fe3\n",
              "9  Whole Foods Market        ...  49bc3b0af964a52020541fe3\n",
              "\n",
              "[10 rows x 16 columns]"
            ]
          },
          "metadata": {
            "tags": []
          },
          "execution_count": 40
        }
      ]
    },
    {
      "cell_type": "markdown",
      "metadata": {
        "button": false,
        "deletable": true,
        "new_sheet": false,
        "run_control": {
          "read_only": false
        },
        "id": "YLdeTs7m4iob",
        "colab_type": "text"
      },
      "source": [
        "#### Let's visualize these items on the map around our location"
      ]
    },
    {
      "cell_type": "code",
      "metadata": {
        "button": false,
        "deletable": true,
        "new_sheet": false,
        "run_control": {
          "read_only": false
        },
        "id": "_5gcAqfT4ioc",
        "colab_type": "code",
        "colab": {
          "base_uri": "https://localhost:8080/",
          "height": 681
        },
        "outputId": "73148785-49f3-4bd7-a516-62004cc5521b"
      },
      "source": [
        "venues_map = folium.Map(location=[latitude, longitude], zoom_start=15) # generate map centred around Ecco\n",
        "\n",
        "\n",
        "# add Ecco as a red circle mark\n",
        "folium.CircleMarker(\n",
        "    [latitude, longitude],\n",
        "    radius=10,\n",
        "    popup='Ecco',\n",
        "    fill=True,\n",
        "    color='red',\n",
        "    fill_color='red',\n",
        "    fill_opacity=0.6\n",
        "    ).add_to(venues_map)\n",
        "\n",
        "\n",
        "# add popular spots to the map as blue circle markers\n",
        "for lat, lng, label in zip(dataframe_filtered.lat, dataframe_filtered.lng, dataframe_filtered.categories):\n",
        "    folium.CircleMarker(\n",
        "        [lat, lng],\n",
        "        radius=5,\n",
        "        popup=label,\n",
        "        fill=True,\n",
        "        color='blue',\n",
        "        fill_color='blue',\n",
        "        fill_opacity=0.6\n",
        "        ).add_to(venues_map)\n",
        "\n",
        "# display map\n",
        "venues_map"
      ],
      "execution_count": 42,
      "outputs": [
        {
          "output_type": "execute_result",
          "data": {
            "text/html": [
              "<div style=\"width:100%;\"><div style=\"position:relative;width:100%;height:0;padding-bottom:60%;\"><span style=\"color:#565656\">Make this Notebook Trusted to load map: File -> Trust Notebook</span><iframe src=\"about:blank\" style=\"position:absolute;width:100%;height:100%;left:0;top:0;border:none !important;\" data-html=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 onload=\"this.contentDocument.open();this.contentDocument.write(atob(this.getAttribute('data-html')));this.contentDocument.close();\" allowfullscreen webkitallowfullscreen mozallowfullscreen></iframe></div></div>"
            ],
            "text/plain": [
              "<folium.folium.Map at 0x7f94aa52d208>"
            ]
          },
          "metadata": {
            "tags": []
          },
          "execution_count": 42
        }
      ]
    },
    {
      "cell_type": "markdown",
      "metadata": {
        "button": false,
        "deletable": true,
        "new_sheet": false,
        "run_control": {
          "read_only": false
        },
        "id": "VnqQ7BBe4ioe",
        "colab_type": "text"
      },
      "source": [
        "   "
      ]
    },
    {
      "cell_type": "markdown",
      "metadata": {
        "button": false,
        "deletable": true,
        "new_sheet": false,
        "run_control": {
          "read_only": false
        },
        "id": "WEEWW8WE4ioe",
        "colab_type": "text"
      },
      "source": [
        "<a id=\"item5\"></a>"
      ]
    },
    {
      "cell_type": "markdown",
      "metadata": {
        "button": false,
        "deletable": true,
        "new_sheet": false,
        "run_control": {
          "read_only": false
        },
        "id": "V1W7rtBk4ioe",
        "colab_type": "text"
      },
      "source": [
        "## 5. Explore Trending Venues\n",
        "> `https://api.foursquare.com/v2/venues/`**trending**`?client_id=`**CLIENT_ID**`&client_secret=`**CLIENT_SECRET**`&ll=`**LATITUDE**`,`**LONGITUDE**`&v=`**VERSION**"
      ]
    },
    {
      "cell_type": "markdown",
      "metadata": {
        "button": false,
        "deletable": true,
        "new_sheet": false,
        "run_control": {
          "read_only": false
        },
        "id": "uuaaYlNt4iof",
        "colab_type": "text"
      },
      "source": [
        "#### Now, instead of simply exploring the area around Ecco, you are interested in knowing the venues that are trending at the time you are done with your lunch, meaning the places with the highest foot traffic. So let's do that and get the trending venues around Ecco."
      ]
    },
    {
      "cell_type": "code",
      "metadata": {
        "button": false,
        "deletable": true,
        "new_sheet": false,
        "run_control": {
          "read_only": false
        },
        "id": "mN56LIQP4iof",
        "colab_type": "code",
        "colab": {
          "base_uri": "https://localhost:8080/",
          "height": 52
        },
        "outputId": "c4b182e2-835a-498d-91b1-cab33489b3ee"
      },
      "source": [
        "# define URL\n",
        "url = 'https://api.foursquare.com/v2/venues/trending?client_id={}&client_secret={}&ll={},{}&v={}'.format(CLIENT_ID, CLIENT_SECRET, latitude, longitude, VERSION)\n",
        "\n",
        "# send GET request and get trending venues\n",
        "results = requests.get(url).json()\n",
        "results"
      ],
      "execution_count": 43,
      "outputs": [
        {
          "output_type": "execute_result",
          "data": {
            "text/plain": [
              "{'meta': {'code': 200, 'requestId': '5f056c69ad353c77ab98c35c'},\n",
              " 'response': {'venues': []}}"
            ]
          },
          "metadata": {
            "tags": []
          },
          "execution_count": 43
        }
      ]
    },
    {
      "cell_type": "markdown",
      "metadata": {
        "button": false,
        "deletable": true,
        "new_sheet": false,
        "run_control": {
          "read_only": false
        },
        "id": "Pk1GszgC4ioh",
        "colab_type": "text"
      },
      "source": [
        "### Check if any venues are trending at this time"
      ]
    },
    {
      "cell_type": "code",
      "metadata": {
        "button": false,
        "deletable": true,
        "new_sheet": false,
        "run_control": {
          "read_only": false
        },
        "id": "6j-Z0-2Q4ioh",
        "colab_type": "code",
        "colab": {}
      },
      "source": [
        "if len(results['response']['venues']) == 0:\n",
        "    trending_venues_df = 'No trending venues are available at the moment!'\n",
        "    \n",
        "else:\n",
        "    trending_venues = results['response']['venues']\n",
        "    trending_venues_df = json_normalize(trending_venues)\n",
        "\n",
        "    # filter columns\n",
        "    columns_filtered = ['name', 'categories'] + ['location.distance', 'location.city', 'location.postalCode', 'location.state', 'location.country', 'location.lat', 'location.lng']\n",
        "    trending_venues_df = trending_venues_df.loc[:, columns_filtered]\n",
        "\n",
        "    # filter the category for each row\n",
        "    trending_venues_df['categories'] = trending_venues_df.apply(get_category_type, axis=1)"
      ],
      "execution_count": 44,
      "outputs": []
    },
    {
      "cell_type": "code",
      "metadata": {
        "button": false,
        "deletable": true,
        "new_sheet": false,
        "run_control": {
          "read_only": false
        },
        "id": "0Krpj9x_4ioj",
        "colab_type": "code",
        "colab": {
          "base_uri": "https://localhost:8080/",
          "height": 34
        },
        "outputId": "8363f757-3d85-4ddb-c763-70cc4ca206aa"
      },
      "source": [
        "# display trending venues\n",
        "trending_venues_df"
      ],
      "execution_count": 45,
      "outputs": [
        {
          "output_type": "execute_result",
          "data": {
            "application/vnd.google.colaboratory.intrinsic": {
              "type": "string"
            },
            "text/plain": [
              "'No trending venues are available at the moment!'"
            ]
          },
          "metadata": {
            "tags": []
          },
          "execution_count": 45
        }
      ]
    },
    {
      "cell_type": "markdown",
      "metadata": {
        "button": false,
        "deletable": true,
        "new_sheet": false,
        "run_control": {
          "read_only": false
        },
        "id": "wdQgseMX4iok",
        "colab_type": "text"
      },
      "source": [
        "Now, depending on when you run the above code, you might get different venues since the venues with the highest foot traffic are fetched live. "
      ]
    },
    {
      "cell_type": "markdown",
      "metadata": {
        "button": false,
        "deletable": true,
        "new_sheet": false,
        "run_control": {
          "read_only": false
        },
        "id": "la4PEtDP4iok",
        "colab_type": "text"
      },
      "source": [
        "### Visualize trending venues"
      ]
    },
    {
      "cell_type": "code",
      "metadata": {
        "button": false,
        "deletable": true,
        "new_sheet": false,
        "run_control": {
          "read_only": false
        },
        "id": "GePOr0DU4iol",
        "colab_type": "code",
        "colab": {}
      },
      "source": [
        "if len(results['response']['venues']) == 0:\n",
        "    venues_map = 'Cannot generate visual as no trending venues are available at the moment!'\n",
        "\n",
        "else:\n",
        "    venues_map = folium.Map(location=[latitude, longitude], zoom_start=15) # generate map centred around Ecco\n",
        "\n",
        "\n",
        "    # add Ecco as a red circle mark\n",
        "    folium.CircleMarker(\n",
        "        [latitude, longitude],\n",
        "        radius=10,\n",
        "        popup='Ecco',\n",
        "        fill=True,\n",
        "        color='red',\n",
        "        fill_color='red',\n",
        "        fill_opacity=0.6\n",
        "    ).add_to(venues_map)\n",
        "\n",
        "\n",
        "    # add the trending venues as blue circle markers\n",
        "    for lat, lng, label in zip(trending_venues_df['location.lat'], trending_venues_df['location.lng'], trending_venues_df['name']):\n",
        "        folium.CircleMarker(\n",
        "            [lat, lng],\n",
        "            radius=5,\n",
        "            poup=label,\n",
        "            fill=True,\n",
        "            color='blue',\n",
        "            fill_color='blue',\n",
        "            fill_opacity=0.6\n",
        "        ).add_to(venues_map)"
      ],
      "execution_count": 46,
      "outputs": []
    },
    {
      "cell_type": "code",
      "metadata": {
        "button": false,
        "deletable": true,
        "new_sheet": false,
        "run_control": {
          "read_only": false
        },
        "scrolled": false,
        "id": "5boX0OdU4ion",
        "colab_type": "code",
        "colab": {
          "base_uri": "https://localhost:8080/",
          "height": 34
        },
        "outputId": "ffe3292a-2e48-4cb7-8105-8a4e4efb4036"
      },
      "source": [
        "# display map\n",
        "venues_map"
      ],
      "execution_count": 47,
      "outputs": [
        {
          "output_type": "execute_result",
          "data": {
            "application/vnd.google.colaboratory.intrinsic": {
              "type": "string"
            },
            "text/plain": [
              "'Cannot generate visual as no trending venues are available at the moment!'"
            ]
          },
          "metadata": {
            "tags": []
          },
          "execution_count": 47
        }
      ]
    },
    {
      "cell_type": "markdown",
      "metadata": {
        "button": false,
        "deletable": true,
        "new_sheet": false,
        "run_control": {
          "read_only": false
        },
        "id": "1WWjPT0n4ioo",
        "colab_type": "text"
      },
      "source": [
        "<a id=\"item6\"></a>"
      ]
    },
    {
      "cell_type": "markdown",
      "metadata": {
        "button": false,
        "deletable": true,
        "new_sheet": false,
        "run_control": {
          "read_only": false
        },
        "id": "Aqirg2dO4ioo",
        "colab_type": "text"
      },
      "source": [
        "   "
      ]
    },
    {
      "cell_type": "markdown",
      "metadata": {
        "button": false,
        "deletable": true,
        "new_sheet": false,
        "run_control": {
          "read_only": false
        },
        "id": "LEo7UZOv4ioo",
        "colab_type": "text"
      },
      "source": [
        "### Thank you for completing this lab!\n",
        "\n",
        "This notebook was created by [Alex Aklson](https://www.linkedin.com/in/aklson/). I hope you found this lab interesting and educational. Feel free to contact me if you have any questions!"
      ]
    },
    {
      "cell_type": "markdown",
      "metadata": {
        "button": false,
        "deletable": true,
        "new_sheet": false,
        "run_control": {
          "read_only": false
        },
        "id": "R_7EvnbU4iop",
        "colab_type": "text"
      },
      "source": [
        "This notebook is part of a course on **Coursera** called *Applied Data Science Capstone*. If you accessed this notebook outside the course, you can take this course online by clicking [here](http://cocl.us/DP0701EN_Coursera_Week2_LAB1)."
      ]
    },
    {
      "cell_type": "markdown",
      "metadata": {
        "button": false,
        "deletable": true,
        "new_sheet": false,
        "run_control": {
          "read_only": false
        },
        "id": "29RXO32k4iop",
        "colab_type": "text"
      },
      "source": [
        "<hr>\n",
        "Copyright &copy; 2018 [Cognitive Class](https://cognitiveclass.ai/?utm_source=bducopyrightlink&utm_medium=dswb&utm_campaign=bdu). This notebook and its source code are released under the terms of the [MIT License](https://bigdatauniversity.com/mit-license/)."
      ]
    }
  ]
}